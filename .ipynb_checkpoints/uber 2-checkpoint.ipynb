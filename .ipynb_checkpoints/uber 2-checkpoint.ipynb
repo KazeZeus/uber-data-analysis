{
 "cells": [
  {
   "cell_type": "code",
   "execution_count": 1,
   "metadata": {},
   "outputs": [],
   "source": [
    "import numpy as np\n",
    "import pandas as pd\n",
    "from datetime import datetime\n",
    "from datetime import date\n",
    "import calendar\n",
    "import matplotlib.pyplot as plt\n",
    "import seaborn as sn\n",
    "%matplotlib inline"
   ]
  },
  {
   "cell_type": "code",
   "execution_count": 2,
   "metadata": {},
   "outputs": [],
   "source": [
    "uber1 = pd.read_csv('uber1.csv')"
   ]
  },
  {
   "cell_type": "code",
   "execution_count": 3,
   "metadata": {},
   "outputs": [
    {
     "data": {
      "text/plain": [
       "(280618, 4)"
      ]
     },
     "execution_count": 3,
     "metadata": {},
     "output_type": "execute_result"
    }
   ],
   "source": [
    "uber1.shape"
   ]
  },
  {
   "cell_type": "code",
   "execution_count": 4,
   "metadata": {},
   "outputs": [],
   "source": [
    "uber1 =  uber1[uber1['datetime']<='7/31/2014 23:59']"
   ]
  },
  {
   "cell_type": "code",
   "execution_count": 5,
   "metadata": {},
   "outputs": [
    {
     "data": {
      "text/plain": [
       "(238597, 4)"
      ]
     },
     "execution_count": 5,
     "metadata": {},
     "output_type": "execute_result"
    }
   ],
   "source": [
    "uber1.shape"
   ]
  },
  {
   "cell_type": "code",
   "execution_count": 6,
   "metadata": {},
   "outputs": [
    {
     "data": {
      "text/html": [
       "<div>\n",
       "<style scoped>\n",
       "    .dataframe tbody tr th:only-of-type {\n",
       "        vertical-align: middle;\n",
       "    }\n",
       "\n",
       "    .dataframe tbody tr th {\n",
       "        vertical-align: top;\n",
       "    }\n",
       "\n",
       "    .dataframe thead th {\n",
       "        text-align: right;\n",
       "    }\n",
       "</style>\n",
       "<table border=\"1\" class=\"dataframe\">\n",
       "  <thead>\n",
       "    <tr style=\"text-align: right;\">\n",
       "      <th></th>\n",
       "      <th>datetime</th>\n",
       "      <th>Lat</th>\n",
       "      <th>Lon</th>\n",
       "      <th>Base</th>\n",
       "    </tr>\n",
       "  </thead>\n",
       "  <tbody>\n",
       "    <tr>\n",
       "      <th>0</th>\n",
       "      <td>7/1/2014 0:03</td>\n",
       "      <td>40.7586</td>\n",
       "      <td>-73.9706</td>\n",
       "      <td>B02512</td>\n",
       "    </tr>\n",
       "    <tr>\n",
       "      <th>1</th>\n",
       "      <td>7/1/2014 0:05</td>\n",
       "      <td>40.7605</td>\n",
       "      <td>-73.9994</td>\n",
       "      <td>B02512</td>\n",
       "    </tr>\n",
       "    <tr>\n",
       "      <th>2</th>\n",
       "      <td>7/1/2014 0:06</td>\n",
       "      <td>40.7320</td>\n",
       "      <td>-73.9999</td>\n",
       "      <td>B02512</td>\n",
       "    </tr>\n",
       "    <tr>\n",
       "      <th>3</th>\n",
       "      <td>7/1/2014 0:09</td>\n",
       "      <td>40.7635</td>\n",
       "      <td>-73.9793</td>\n",
       "      <td>B02512</td>\n",
       "    </tr>\n",
       "    <tr>\n",
       "      <th>4</th>\n",
       "      <td>7/1/2014 0:20</td>\n",
       "      <td>40.7204</td>\n",
       "      <td>-74.0047</td>\n",
       "      <td>B02512</td>\n",
       "    </tr>\n",
       "  </tbody>\n",
       "</table>\n",
       "</div>"
      ],
      "text/plain": [
       "        datetime      Lat      Lon    Base\n",
       "0  7/1/2014 0:03  40.7586 -73.9706  B02512\n",
       "1  7/1/2014 0:05  40.7605 -73.9994  B02512\n",
       "2  7/1/2014 0:06  40.7320 -73.9999  B02512\n",
       "3  7/1/2014 0:09  40.7635 -73.9793  B02512\n",
       "4  7/1/2014 0:20  40.7204 -74.0047  B02512"
      ]
     },
     "execution_count": 6,
     "metadata": {},
     "output_type": "execute_result"
    }
   ],
   "source": [
    "uber1.head()"
   ]
  },
  {
   "cell_type": "code",
   "execution_count": 7,
   "metadata": {},
   "outputs": [
    {
     "data": {
      "text/html": [
       "<div>\n",
       "<style scoped>\n",
       "    .dataframe tbody tr th:only-of-type {\n",
       "        vertical-align: middle;\n",
       "    }\n",
       "\n",
       "    .dataframe tbody tr th {\n",
       "        vertical-align: top;\n",
       "    }\n",
       "\n",
       "    .dataframe thead th {\n",
       "        text-align: right;\n",
       "    }\n",
       "</style>\n",
       "<table border=\"1\" class=\"dataframe\">\n",
       "  <thead>\n",
       "    <tr style=\"text-align: right;\">\n",
       "      <th></th>\n",
       "      <th>datetime</th>\n",
       "      <th>Lat</th>\n",
       "      <th>Lon</th>\n",
       "      <th>Base</th>\n",
       "    </tr>\n",
       "  </thead>\n",
       "  <tbody>\n",
       "    <tr>\n",
       "      <th>280613</th>\n",
       "      <td>7/31/2014 23:59</td>\n",
       "      <td>40.7868</td>\n",
       "      <td>-73.9776</td>\n",
       "      <td>B02598</td>\n",
       "    </tr>\n",
       "    <tr>\n",
       "      <th>280614</th>\n",
       "      <td>7/31/2014 23:59</td>\n",
       "      <td>40.7282</td>\n",
       "      <td>-73.9997</td>\n",
       "      <td>B02598</td>\n",
       "    </tr>\n",
       "    <tr>\n",
       "      <th>280615</th>\n",
       "      <td>7/31/2014 23:59</td>\n",
       "      <td>40.7211</td>\n",
       "      <td>-73.9879</td>\n",
       "      <td>B02598</td>\n",
       "    </tr>\n",
       "    <tr>\n",
       "      <th>280616</th>\n",
       "      <td>7/31/2014 23:59</td>\n",
       "      <td>40.7552</td>\n",
       "      <td>-73.9251</td>\n",
       "      <td>B02598</td>\n",
       "    </tr>\n",
       "    <tr>\n",
       "      <th>280617</th>\n",
       "      <td>7/31/2014 23:59</td>\n",
       "      <td>40.7522</td>\n",
       "      <td>-73.9737</td>\n",
       "      <td>B02598</td>\n",
       "    </tr>\n",
       "  </tbody>\n",
       "</table>\n",
       "</div>"
      ],
      "text/plain": [
       "               datetime      Lat      Lon    Base\n",
       "280613  7/31/2014 23:59  40.7868 -73.9776  B02598\n",
       "280614  7/31/2014 23:59  40.7282 -73.9997  B02598\n",
       "280615  7/31/2014 23:59  40.7211 -73.9879  B02598\n",
       "280616  7/31/2014 23:59  40.7552 -73.9251  B02598\n",
       "280617  7/31/2014 23:59  40.7522 -73.9737  B02598"
      ]
     },
     "execution_count": 7,
     "metadata": {},
     "output_type": "execute_result"
    }
   ],
   "source": [
    "uber1.tail()"
   ]
  },
  {
   "cell_type": "code",
   "execution_count": 8,
   "metadata": {},
   "outputs": [
    {
     "data": {
      "text/plain": [
       "(238597, 4)"
      ]
     },
     "execution_count": 8,
     "metadata": {},
     "output_type": "execute_result"
    }
   ],
   "source": [
    "uber1.shape"
   ]
  },
  {
   "cell_type": "code",
   "execution_count": 9,
   "metadata": {},
   "outputs": [],
   "source": [
    "uber1[\"date\"] = uber1.datetime.apply(lambda x : x.split()[0])\n",
    "uber1[\"hour\"] = uber1.datetime.apply(lambda x : x.split()[1].split(\":\")[0])\n"
   ]
  },
  {
   "cell_type": "code",
   "execution_count": 10,
   "metadata": {},
   "outputs": [],
   "source": [
    "uber1[\"date\"] = uber1.date.apply(lambda dateString : datetime.strptime(dateString,\"%m/%d/%Y\").day)"
   ]
  },
  {
   "cell_type": "code",
   "execution_count": 11,
   "metadata": {},
   "outputs": [
    {
     "data": {
      "text/html": [
       "<div>\n",
       "<style scoped>\n",
       "    .dataframe tbody tr th:only-of-type {\n",
       "        vertical-align: middle;\n",
       "    }\n",
       "\n",
       "    .dataframe tbody tr th {\n",
       "        vertical-align: top;\n",
       "    }\n",
       "\n",
       "    .dataframe thead th {\n",
       "        text-align: right;\n",
       "    }\n",
       "</style>\n",
       "<table border=\"1\" class=\"dataframe\">\n",
       "  <thead>\n",
       "    <tr style=\"text-align: right;\">\n",
       "      <th></th>\n",
       "      <th>datetime</th>\n",
       "      <th>Lat</th>\n",
       "      <th>Lon</th>\n",
       "      <th>Base</th>\n",
       "      <th>date</th>\n",
       "      <th>hour</th>\n",
       "    </tr>\n",
       "  </thead>\n",
       "  <tbody>\n",
       "    <tr>\n",
       "      <th>0</th>\n",
       "      <td>7/1/2014 0:03</td>\n",
       "      <td>40.7586</td>\n",
       "      <td>-73.9706</td>\n",
       "      <td>B02512</td>\n",
       "      <td>1</td>\n",
       "      <td>0</td>\n",
       "    </tr>\n",
       "    <tr>\n",
       "      <th>1</th>\n",
       "      <td>7/1/2014 0:05</td>\n",
       "      <td>40.7605</td>\n",
       "      <td>-73.9994</td>\n",
       "      <td>B02512</td>\n",
       "      <td>1</td>\n",
       "      <td>0</td>\n",
       "    </tr>\n",
       "    <tr>\n",
       "      <th>2</th>\n",
       "      <td>7/1/2014 0:06</td>\n",
       "      <td>40.7320</td>\n",
       "      <td>-73.9999</td>\n",
       "      <td>B02512</td>\n",
       "      <td>1</td>\n",
       "      <td>0</td>\n",
       "    </tr>\n",
       "    <tr>\n",
       "      <th>3</th>\n",
       "      <td>7/1/2014 0:09</td>\n",
       "      <td>40.7635</td>\n",
       "      <td>-73.9793</td>\n",
       "      <td>B02512</td>\n",
       "      <td>1</td>\n",
       "      <td>0</td>\n",
       "    </tr>\n",
       "    <tr>\n",
       "      <th>4</th>\n",
       "      <td>7/1/2014 0:20</td>\n",
       "      <td>40.7204</td>\n",
       "      <td>-74.0047</td>\n",
       "      <td>B02512</td>\n",
       "      <td>1</td>\n",
       "      <td>0</td>\n",
       "    </tr>\n",
       "  </tbody>\n",
       "</table>\n",
       "</div>"
      ],
      "text/plain": [
       "        datetime      Lat      Lon    Base  date hour\n",
       "0  7/1/2014 0:03  40.7586 -73.9706  B02512     1    0\n",
       "1  7/1/2014 0:05  40.7605 -73.9994  B02512     1    0\n",
       "2  7/1/2014 0:06  40.7320 -73.9999  B02512     1    0\n",
       "3  7/1/2014 0:09  40.7635 -73.9793  B02512     1    0\n",
       "4  7/1/2014 0:20  40.7204 -74.0047  B02512     1    0"
      ]
     },
     "execution_count": 11,
     "metadata": {},
     "output_type": "execute_result"
    }
   ],
   "source": [
    "uber1.head()"
   ]
  },
  {
   "cell_type": "code",
   "execution_count": 12,
   "metadata": {},
   "outputs": [
    {
     "data": {
      "text/plain": [
       "11647     39.9055\n",
       "11779     39.9374\n",
       "11798     39.9385\n",
       "11732     39.9417\n",
       "28687     39.9727\n",
       "11602     39.9761\n",
       "28758     39.9965\n",
       "27778     40.0161\n",
       "19516     40.0162\n",
       "19500     40.0200\n",
       "27665     40.0396\n",
       "11561     40.0549\n",
       "28791     40.0573\n",
       "19375     40.0680\n",
       "10550     40.0736\n",
       "20166     40.0894\n",
       "252291    40.0945\n",
       "11683     40.0947\n",
       "10772     40.0973\n",
       "20429     40.0973\n",
       "11518     40.1007\n",
       "20244     40.1016\n",
       "11455     40.1017\n",
       "27589     40.1099\n",
       "28213     40.1116\n",
       "27750     40.1123\n",
       "239005    40.1225\n",
       "239007    40.1225\n",
       "28649     40.1279\n",
       "20142     40.1340\n",
       "           ...   \n",
       "32432     41.0915\n",
       "264910    41.0916\n",
       "137160    41.0966\n",
       "253582    41.0975\n",
       "43917     41.0981\n",
       "250830    41.0984\n",
       "231651    41.1022\n",
       "19246     41.1035\n",
       "29403     41.1079\n",
       "107735    41.1109\n",
       "257392    41.1137\n",
       "109609    41.1157\n",
       "165976    41.1215\n",
       "43364     41.1216\n",
       "25921     41.1222\n",
       "125042    41.1237\n",
       "178573    41.1256\n",
       "21730     41.1269\n",
       "204085    41.1305\n",
       "29606     41.1367\n",
       "257777    41.1400\n",
       "274661    41.1401\n",
       "191916    41.1596\n",
       "273577    41.1968\n",
       "204122    41.1988\n",
       "50854     41.2094\n",
       "230266    41.2199\n",
       "28330     41.2200\n",
       "273714    41.3015\n",
       "273704    41.3015\n",
       "Name: Lat, Length: 238597, dtype: float64"
      ]
     },
     "execution_count": 12,
     "metadata": {},
     "output_type": "execute_result"
    }
   ],
   "source": [
    "uber1['Lat'].sort_values()"
   ]
  },
  {
   "cell_type": "code",
   "execution_count": 13,
   "metadata": {},
   "outputs": [],
   "source": [
    " uber1 = uber1.sort_values(by='Lat')"
   ]
  },
  {
   "cell_type": "code",
   "execution_count": 14,
   "metadata": {
    "scrolled": true
   },
   "outputs": [
    {
     "data": {
      "text/html": [
       "<div>\n",
       "<style scoped>\n",
       "    .dataframe tbody tr th:only-of-type {\n",
       "        vertical-align: middle;\n",
       "    }\n",
       "\n",
       "    .dataframe tbody tr th {\n",
       "        vertical-align: top;\n",
       "    }\n",
       "\n",
       "    .dataframe thead th {\n",
       "        text-align: right;\n",
       "    }\n",
       "</style>\n",
       "<table border=\"1\" class=\"dataframe\">\n",
       "  <thead>\n",
       "    <tr style=\"text-align: right;\">\n",
       "      <th></th>\n",
       "      <th>datetime</th>\n",
       "      <th>Lat</th>\n",
       "      <th>Lon</th>\n",
       "      <th>Base</th>\n",
       "      <th>date</th>\n",
       "      <th>hour</th>\n",
       "    </tr>\n",
       "  </thead>\n",
       "  <tbody>\n",
       "    <tr>\n",
       "      <th>11647</th>\n",
       "      <td>7/12/2014 22:49</td>\n",
       "      <td>39.9055</td>\n",
       "      <td>-74.0791</td>\n",
       "      <td>B02512</td>\n",
       "      <td>12</td>\n",
       "      <td>22</td>\n",
       "    </tr>\n",
       "    <tr>\n",
       "      <th>11779</th>\n",
       "      <td>7/13/2014 1:21</td>\n",
       "      <td>39.9374</td>\n",
       "      <td>-74.0722</td>\n",
       "      <td>B02512</td>\n",
       "      <td>13</td>\n",
       "      <td>1</td>\n",
       "    </tr>\n",
       "    <tr>\n",
       "      <th>11798</th>\n",
       "      <td>7/13/2014 1:55</td>\n",
       "      <td>39.9385</td>\n",
       "      <td>-74.0734</td>\n",
       "      <td>B02512</td>\n",
       "      <td>13</td>\n",
       "      <td>1</td>\n",
       "    </tr>\n",
       "    <tr>\n",
       "      <th>11732</th>\n",
       "      <td>7/13/2014 0:13</td>\n",
       "      <td>39.9417</td>\n",
       "      <td>-74.0737</td>\n",
       "      <td>B02512</td>\n",
       "      <td>13</td>\n",
       "      <td>0</td>\n",
       "    </tr>\n",
       "    <tr>\n",
       "      <th>28687</th>\n",
       "      <td>7/26/2014 21:01</td>\n",
       "      <td>39.9727</td>\n",
       "      <td>-74.0695</td>\n",
       "      <td>B02512</td>\n",
       "      <td>26</td>\n",
       "      <td>21</td>\n",
       "    </tr>\n",
       "    <tr>\n",
       "      <th>11602</th>\n",
       "      <td>7/12/2014 22:05</td>\n",
       "      <td>39.9761</td>\n",
       "      <td>-74.0654</td>\n",
       "      <td>B02512</td>\n",
       "      <td>12</td>\n",
       "      <td>22</td>\n",
       "    </tr>\n",
       "    <tr>\n",
       "      <th>28758</th>\n",
       "      <td>7/26/2014 21:52</td>\n",
       "      <td>39.9965</td>\n",
       "      <td>-74.0641</td>\n",
       "      <td>B02512</td>\n",
       "      <td>26</td>\n",
       "      <td>21</td>\n",
       "    </tr>\n",
       "    <tr>\n",
       "      <th>27778</th>\n",
       "      <td>7/25/2014 23:52</td>\n",
       "      <td>40.0161</td>\n",
       "      <td>-74.0571</td>\n",
       "      <td>B02512</td>\n",
       "      <td>25</td>\n",
       "      <td>23</td>\n",
       "    </tr>\n",
       "    <tr>\n",
       "      <th>19516</th>\n",
       "      <td>7/19/2014 0:45</td>\n",
       "      <td>40.0162</td>\n",
       "      <td>-74.0570</td>\n",
       "      <td>B02512</td>\n",
       "      <td>19</td>\n",
       "      <td>0</td>\n",
       "    </tr>\n",
       "    <tr>\n",
       "      <th>19500</th>\n",
       "      <td>7/19/2014 0:24</td>\n",
       "      <td>40.0200</td>\n",
       "      <td>-74.0557</td>\n",
       "      <td>B02512</td>\n",
       "      <td>19</td>\n",
       "      <td>0</td>\n",
       "    </tr>\n",
       "    <tr>\n",
       "      <th>27665</th>\n",
       "      <td>7/25/2014 22:11</td>\n",
       "      <td>40.0396</td>\n",
       "      <td>-74.1709</td>\n",
       "      <td>B02512</td>\n",
       "      <td>25</td>\n",
       "      <td>22</td>\n",
       "    </tr>\n",
       "    <tr>\n",
       "      <th>11561</th>\n",
       "      <td>7/12/2014 21:25</td>\n",
       "      <td>40.0549</td>\n",
       "      <td>-74.0474</td>\n",
       "      <td>B02512</td>\n",
       "      <td>12</td>\n",
       "      <td>21</td>\n",
       "    </tr>\n",
       "    <tr>\n",
       "      <th>28791</th>\n",
       "      <td>7/26/2014 22:17</td>\n",
       "      <td>40.0573</td>\n",
       "      <td>-74.0675</td>\n",
       "      <td>B02512</td>\n",
       "      <td>26</td>\n",
       "      <td>22</td>\n",
       "    </tr>\n",
       "    <tr>\n",
       "      <th>19375</th>\n",
       "      <td>7/18/2014 22:19</td>\n",
       "      <td>40.0680</td>\n",
       "      <td>-74.0444</td>\n",
       "      <td>B02512</td>\n",
       "      <td>18</td>\n",
       "      <td>22</td>\n",
       "    </tr>\n",
       "    <tr>\n",
       "      <th>10550</th>\n",
       "      <td>7/11/2014 20:47</td>\n",
       "      <td>40.0736</td>\n",
       "      <td>-74.0552</td>\n",
       "      <td>B02512</td>\n",
       "      <td>11</td>\n",
       "      <td>20</td>\n",
       "    </tr>\n",
       "    <tr>\n",
       "      <th>20166</th>\n",
       "      <td>7/19/2014 19:38</td>\n",
       "      <td>40.0894</td>\n",
       "      <td>-74.0398</td>\n",
       "      <td>B02512</td>\n",
       "      <td>19</td>\n",
       "      <td>19</td>\n",
       "    </tr>\n",
       "    <tr>\n",
       "      <th>252291</th>\n",
       "      <td>7/28/2014 19:11</td>\n",
       "      <td>40.0945</td>\n",
       "      <td>-74.0367</td>\n",
       "      <td>B02598</td>\n",
       "      <td>28</td>\n",
       "      <td>19</td>\n",
       "    </tr>\n",
       "    <tr>\n",
       "      <th>11683</th>\n",
       "      <td>7/12/2014 23:18</td>\n",
       "      <td>40.0947</td>\n",
       "      <td>-74.0373</td>\n",
       "      <td>B02512</td>\n",
       "      <td>12</td>\n",
       "      <td>23</td>\n",
       "    </tr>\n",
       "    <tr>\n",
       "      <th>10772</th>\n",
       "      <td>7/12/2014 0:06</td>\n",
       "      <td>40.0973</td>\n",
       "      <td>-74.0879</td>\n",
       "      <td>B02512</td>\n",
       "      <td>12</td>\n",
       "      <td>0</td>\n",
       "    </tr>\n",
       "    <tr>\n",
       "      <th>20429</th>\n",
       "      <td>7/20/2014 0:01</td>\n",
       "      <td>40.0973</td>\n",
       "      <td>-74.0879</td>\n",
       "      <td>B02512</td>\n",
       "      <td>20</td>\n",
       "      <td>0</td>\n",
       "    </tr>\n",
       "    <tr>\n",
       "      <th>11518</th>\n",
       "      <td>7/12/2014 20:34</td>\n",
       "      <td>40.1007</td>\n",
       "      <td>-74.0438</td>\n",
       "      <td>B02512</td>\n",
       "      <td>12</td>\n",
       "      <td>20</td>\n",
       "    </tr>\n",
       "    <tr>\n",
       "      <th>20244</th>\n",
       "      <td>7/19/2014 20:57</td>\n",
       "      <td>40.1016</td>\n",
       "      <td>-74.0408</td>\n",
       "      <td>B02512</td>\n",
       "      <td>19</td>\n",
       "      <td>20</td>\n",
       "    </tr>\n",
       "    <tr>\n",
       "      <th>11455</th>\n",
       "      <td>7/12/2014 19:34</td>\n",
       "      <td>40.1017</td>\n",
       "      <td>-74.0406</td>\n",
       "      <td>B02512</td>\n",
       "      <td>12</td>\n",
       "      <td>19</td>\n",
       "    </tr>\n",
       "    <tr>\n",
       "      <th>27589</th>\n",
       "      <td>7/25/2014 21:13</td>\n",
       "      <td>40.1099</td>\n",
       "      <td>-74.0344</td>\n",
       "      <td>B02512</td>\n",
       "      <td>25</td>\n",
       "      <td>21</td>\n",
       "    </tr>\n",
       "    <tr>\n",
       "      <th>28213</th>\n",
       "      <td>7/26/2014 14:44</td>\n",
       "      <td>40.1116</td>\n",
       "      <td>-74.0367</td>\n",
       "      <td>B02512</td>\n",
       "      <td>26</td>\n",
       "      <td>14</td>\n",
       "    </tr>\n",
       "    <tr>\n",
       "      <th>27750</th>\n",
       "      <td>7/25/2014 23:23</td>\n",
       "      <td>40.1123</td>\n",
       "      <td>-74.0349</td>\n",
       "      <td>B02512</td>\n",
       "      <td>25</td>\n",
       "      <td>23</td>\n",
       "    </tr>\n",
       "    <tr>\n",
       "      <th>239005</th>\n",
       "      <td>7/26/2014 21:36</td>\n",
       "      <td>40.1225</td>\n",
       "      <td>-74.0495</td>\n",
       "      <td>B02598</td>\n",
       "      <td>26</td>\n",
       "      <td>21</td>\n",
       "    </tr>\n",
       "    <tr>\n",
       "      <th>239007</th>\n",
       "      <td>7/26/2014 21:36</td>\n",
       "      <td>40.1225</td>\n",
       "      <td>-74.0495</td>\n",
       "      <td>B02598</td>\n",
       "      <td>26</td>\n",
       "      <td>21</td>\n",
       "    </tr>\n",
       "    <tr>\n",
       "      <th>28649</th>\n",
       "      <td>7/26/2014 20:33</td>\n",
       "      <td>40.1279</td>\n",
       "      <td>-74.0534</td>\n",
       "      <td>B02512</td>\n",
       "      <td>26</td>\n",
       "      <td>20</td>\n",
       "    </tr>\n",
       "    <tr>\n",
       "      <th>20142</th>\n",
       "      <td>7/19/2014 19:13</td>\n",
       "      <td>40.1340</td>\n",
       "      <td>-74.0341</td>\n",
       "      <td>B02512</td>\n",
       "      <td>19</td>\n",
       "      <td>19</td>\n",
       "    </tr>\n",
       "    <tr>\n",
       "      <th>...</th>\n",
       "      <td>...</td>\n",
       "      <td>...</td>\n",
       "      <td>...</td>\n",
       "      <td>...</td>\n",
       "      <td>...</td>\n",
       "      <td>...</td>\n",
       "    </tr>\n",
       "    <tr>\n",
       "      <th>32432</th>\n",
       "      <td>7/30/2014 8:12</td>\n",
       "      <td>41.0915</td>\n",
       "      <td>-73.9215</td>\n",
       "      <td>B02512</td>\n",
       "      <td>30</td>\n",
       "      <td>8</td>\n",
       "    </tr>\n",
       "    <tr>\n",
       "      <th>264910</th>\n",
       "      <td>7/30/2014 13:19</td>\n",
       "      <td>41.0916</td>\n",
       "      <td>-73.8631</td>\n",
       "      <td>B02598</td>\n",
       "      <td>30</td>\n",
       "      <td>13</td>\n",
       "    </tr>\n",
       "    <tr>\n",
       "      <th>137160</th>\n",
       "      <td>7/15/2014 7:44</td>\n",
       "      <td>41.0966</td>\n",
       "      <td>-73.7253</td>\n",
       "      <td>B02598</td>\n",
       "      <td>15</td>\n",
       "      <td>7</td>\n",
       "    </tr>\n",
       "    <tr>\n",
       "      <th>253582</th>\n",
       "      <td>7/28/2014 22:25</td>\n",
       "      <td>41.0975</td>\n",
       "      <td>-73.8098</td>\n",
       "      <td>B02598</td>\n",
       "      <td>28</td>\n",
       "      <td>22</td>\n",
       "    </tr>\n",
       "    <tr>\n",
       "      <th>43917</th>\n",
       "      <td>7/2/2014 9:42</td>\n",
       "      <td>41.0981</td>\n",
       "      <td>-73.8337</td>\n",
       "      <td>B02598</td>\n",
       "      <td>2</td>\n",
       "      <td>9</td>\n",
       "    </tr>\n",
       "    <tr>\n",
       "      <th>250830</th>\n",
       "      <td>7/28/2014 16:02</td>\n",
       "      <td>41.0984</td>\n",
       "      <td>-73.7820</td>\n",
       "      <td>B02598</td>\n",
       "      <td>28</td>\n",
       "      <td>16</td>\n",
       "    </tr>\n",
       "    <tr>\n",
       "      <th>231651</th>\n",
       "      <td>7/25/2014 23:24</td>\n",
       "      <td>41.1022</td>\n",
       "      <td>-73.7925</td>\n",
       "      <td>B02598</td>\n",
       "      <td>25</td>\n",
       "      <td>23</td>\n",
       "    </tr>\n",
       "    <tr>\n",
       "      <th>19246</th>\n",
       "      <td>7/18/2014 20:39</td>\n",
       "      <td>41.1035</td>\n",
       "      <td>-73.8294</td>\n",
       "      <td>B02512</td>\n",
       "      <td>18</td>\n",
       "      <td>20</td>\n",
       "    </tr>\n",
       "    <tr>\n",
       "      <th>29403</th>\n",
       "      <td>7/27/2014 17:01</td>\n",
       "      <td>41.1079</td>\n",
       "      <td>-74.0688</td>\n",
       "      <td>B02512</td>\n",
       "      <td>27</td>\n",
       "      <td>17</td>\n",
       "    </tr>\n",
       "    <tr>\n",
       "      <th>107735</th>\n",
       "      <td>7/11/2014 15:55</td>\n",
       "      <td>41.1109</td>\n",
       "      <td>-73.9159</td>\n",
       "      <td>B02598</td>\n",
       "      <td>11</td>\n",
       "      <td>15</td>\n",
       "    </tr>\n",
       "    <tr>\n",
       "      <th>257392</th>\n",
       "      <td>7/29/2014 15:06</td>\n",
       "      <td>41.1137</td>\n",
       "      <td>-73.7171</td>\n",
       "      <td>B02598</td>\n",
       "      <td>29</td>\n",
       "      <td>15</td>\n",
       "    </tr>\n",
       "    <tr>\n",
       "      <th>109609</th>\n",
       "      <td>7/11/2014 18:03</td>\n",
       "      <td>41.1157</td>\n",
       "      <td>-73.8057</td>\n",
       "      <td>B02598</td>\n",
       "      <td>11</td>\n",
       "      <td>18</td>\n",
       "    </tr>\n",
       "    <tr>\n",
       "      <th>165976</th>\n",
       "      <td>7/18/2014 7:46</td>\n",
       "      <td>41.1215</td>\n",
       "      <td>-73.7062</td>\n",
       "      <td>B02598</td>\n",
       "      <td>18</td>\n",
       "      <td>7</td>\n",
       "    </tr>\n",
       "    <tr>\n",
       "      <th>43364</th>\n",
       "      <td>7/2/2014 8:02</td>\n",
       "      <td>41.1216</td>\n",
       "      <td>-73.7060</td>\n",
       "      <td>B02598</td>\n",
       "      <td>2</td>\n",
       "      <td>8</td>\n",
       "    </tr>\n",
       "    <tr>\n",
       "      <th>25921</th>\n",
       "      <td>7/24/2014 17:13</td>\n",
       "      <td>41.1222</td>\n",
       "      <td>-73.7163</td>\n",
       "      <td>B02512</td>\n",
       "      <td>24</td>\n",
       "      <td>17</td>\n",
       "    </tr>\n",
       "    <tr>\n",
       "      <th>125042</th>\n",
       "      <td>7/13/2014 16:53</td>\n",
       "      <td>41.1237</td>\n",
       "      <td>-73.7154</td>\n",
       "      <td>B02598</td>\n",
       "      <td>13</td>\n",
       "      <td>16</td>\n",
       "    </tr>\n",
       "    <tr>\n",
       "      <th>178573</th>\n",
       "      <td>7/19/2014 18:29</td>\n",
       "      <td>41.1256</td>\n",
       "      <td>-73.6999</td>\n",
       "      <td>B02598</td>\n",
       "      <td>19</td>\n",
       "      <td>18</td>\n",
       "    </tr>\n",
       "    <tr>\n",
       "      <th>21730</th>\n",
       "      <td>7/21/2014 13:54</td>\n",
       "      <td>41.1269</td>\n",
       "      <td>-73.8603</td>\n",
       "      <td>B02512</td>\n",
       "      <td>21</td>\n",
       "      <td>13</td>\n",
       "    </tr>\n",
       "    <tr>\n",
       "      <th>204085</th>\n",
       "      <td>7/23/2014 7:11</td>\n",
       "      <td>41.1305</td>\n",
       "      <td>-73.7554</td>\n",
       "      <td>B02598</td>\n",
       "      <td>23</td>\n",
       "      <td>7</td>\n",
       "    </tr>\n",
       "    <tr>\n",
       "      <th>29606</th>\n",
       "      <td>7/27/2014 21:32</td>\n",
       "      <td>41.1367</td>\n",
       "      <td>-73.7777</td>\n",
       "      <td>B02512</td>\n",
       "      <td>27</td>\n",
       "      <td>21</td>\n",
       "    </tr>\n",
       "    <tr>\n",
       "      <th>257777</th>\n",
       "      <td>7/29/2014 15:54</td>\n",
       "      <td>41.1400</td>\n",
       "      <td>-73.8116</td>\n",
       "      <td>B02598</td>\n",
       "      <td>29</td>\n",
       "      <td>15</td>\n",
       "    </tr>\n",
       "    <tr>\n",
       "      <th>274661</th>\n",
       "      <td>7/31/2014 15:02</td>\n",
       "      <td>41.1401</td>\n",
       "      <td>-73.8117</td>\n",
       "      <td>B02598</td>\n",
       "      <td>31</td>\n",
       "      <td>15</td>\n",
       "    </tr>\n",
       "    <tr>\n",
       "      <th>191916</th>\n",
       "      <td>7/21/2014 16:59</td>\n",
       "      <td>41.1596</td>\n",
       "      <td>-73.8251</td>\n",
       "      <td>B02598</td>\n",
       "      <td>21</td>\n",
       "      <td>16</td>\n",
       "    </tr>\n",
       "    <tr>\n",
       "      <th>273577</th>\n",
       "      <td>7/31/2014 12:29</td>\n",
       "      <td>41.1968</td>\n",
       "      <td>-73.6694</td>\n",
       "      <td>B02598</td>\n",
       "      <td>31</td>\n",
       "      <td>12</td>\n",
       "    </tr>\n",
       "    <tr>\n",
       "      <th>204122</th>\n",
       "      <td>7/23/2014 7:16</td>\n",
       "      <td>41.1988</td>\n",
       "      <td>-73.6502</td>\n",
       "      <td>B02598</td>\n",
       "      <td>23</td>\n",
       "      <td>7</td>\n",
       "    </tr>\n",
       "    <tr>\n",
       "      <th>50854</th>\n",
       "      <td>7/2/2014 22:51</td>\n",
       "      <td>41.2094</td>\n",
       "      <td>-73.5750</td>\n",
       "      <td>B02598</td>\n",
       "      <td>2</td>\n",
       "      <td>22</td>\n",
       "    </tr>\n",
       "    <tr>\n",
       "      <th>230266</th>\n",
       "      <td>7/25/2014 21:01</td>\n",
       "      <td>41.2199</td>\n",
       "      <td>-73.9011</td>\n",
       "      <td>B02598</td>\n",
       "      <td>25</td>\n",
       "      <td>21</td>\n",
       "    </tr>\n",
       "    <tr>\n",
       "      <th>28330</th>\n",
       "      <td>7/26/2014 16:16</td>\n",
       "      <td>41.2200</td>\n",
       "      <td>-73.7238</td>\n",
       "      <td>B02512</td>\n",
       "      <td>26</td>\n",
       "      <td>16</td>\n",
       "    </tr>\n",
       "    <tr>\n",
       "      <th>273714</th>\n",
       "      <td>7/31/2014 12:51</td>\n",
       "      <td>41.3015</td>\n",
       "      <td>-73.6692</td>\n",
       "      <td>B02598</td>\n",
       "      <td>31</td>\n",
       "      <td>12</td>\n",
       "    </tr>\n",
       "    <tr>\n",
       "      <th>273704</th>\n",
       "      <td>7/31/2014 12:49</td>\n",
       "      <td>41.3015</td>\n",
       "      <td>-73.6691</td>\n",
       "      <td>B02598</td>\n",
       "      <td>31</td>\n",
       "      <td>12</td>\n",
       "    </tr>\n",
       "  </tbody>\n",
       "</table>\n",
       "<p>238597 rows × 6 columns</p>\n",
       "</div>"
      ],
      "text/plain": [
       "               datetime      Lat      Lon    Base  date hour\n",
       "11647   7/12/2014 22:49  39.9055 -74.0791  B02512    12   22\n",
       "11779    7/13/2014 1:21  39.9374 -74.0722  B02512    13    1\n",
       "11798    7/13/2014 1:55  39.9385 -74.0734  B02512    13    1\n",
       "11732    7/13/2014 0:13  39.9417 -74.0737  B02512    13    0\n",
       "28687   7/26/2014 21:01  39.9727 -74.0695  B02512    26   21\n",
       "11602   7/12/2014 22:05  39.9761 -74.0654  B02512    12   22\n",
       "28758   7/26/2014 21:52  39.9965 -74.0641  B02512    26   21\n",
       "27778   7/25/2014 23:52  40.0161 -74.0571  B02512    25   23\n",
       "19516    7/19/2014 0:45  40.0162 -74.0570  B02512    19    0\n",
       "19500    7/19/2014 0:24  40.0200 -74.0557  B02512    19    0\n",
       "27665   7/25/2014 22:11  40.0396 -74.1709  B02512    25   22\n",
       "11561   7/12/2014 21:25  40.0549 -74.0474  B02512    12   21\n",
       "28791   7/26/2014 22:17  40.0573 -74.0675  B02512    26   22\n",
       "19375   7/18/2014 22:19  40.0680 -74.0444  B02512    18   22\n",
       "10550   7/11/2014 20:47  40.0736 -74.0552  B02512    11   20\n",
       "20166   7/19/2014 19:38  40.0894 -74.0398  B02512    19   19\n",
       "252291  7/28/2014 19:11  40.0945 -74.0367  B02598    28   19\n",
       "11683   7/12/2014 23:18  40.0947 -74.0373  B02512    12   23\n",
       "10772    7/12/2014 0:06  40.0973 -74.0879  B02512    12    0\n",
       "20429    7/20/2014 0:01  40.0973 -74.0879  B02512    20    0\n",
       "11518   7/12/2014 20:34  40.1007 -74.0438  B02512    12   20\n",
       "20244   7/19/2014 20:57  40.1016 -74.0408  B02512    19   20\n",
       "11455   7/12/2014 19:34  40.1017 -74.0406  B02512    12   19\n",
       "27589   7/25/2014 21:13  40.1099 -74.0344  B02512    25   21\n",
       "28213   7/26/2014 14:44  40.1116 -74.0367  B02512    26   14\n",
       "27750   7/25/2014 23:23  40.1123 -74.0349  B02512    25   23\n",
       "239005  7/26/2014 21:36  40.1225 -74.0495  B02598    26   21\n",
       "239007  7/26/2014 21:36  40.1225 -74.0495  B02598    26   21\n",
       "28649   7/26/2014 20:33  40.1279 -74.0534  B02512    26   20\n",
       "20142   7/19/2014 19:13  40.1340 -74.0341  B02512    19   19\n",
       "...                 ...      ...      ...     ...   ...  ...\n",
       "32432    7/30/2014 8:12  41.0915 -73.9215  B02512    30    8\n",
       "264910  7/30/2014 13:19  41.0916 -73.8631  B02598    30   13\n",
       "137160   7/15/2014 7:44  41.0966 -73.7253  B02598    15    7\n",
       "253582  7/28/2014 22:25  41.0975 -73.8098  B02598    28   22\n",
       "43917     7/2/2014 9:42  41.0981 -73.8337  B02598     2    9\n",
       "250830  7/28/2014 16:02  41.0984 -73.7820  B02598    28   16\n",
       "231651  7/25/2014 23:24  41.1022 -73.7925  B02598    25   23\n",
       "19246   7/18/2014 20:39  41.1035 -73.8294  B02512    18   20\n",
       "29403   7/27/2014 17:01  41.1079 -74.0688  B02512    27   17\n",
       "107735  7/11/2014 15:55  41.1109 -73.9159  B02598    11   15\n",
       "257392  7/29/2014 15:06  41.1137 -73.7171  B02598    29   15\n",
       "109609  7/11/2014 18:03  41.1157 -73.8057  B02598    11   18\n",
       "165976   7/18/2014 7:46  41.1215 -73.7062  B02598    18    7\n",
       "43364     7/2/2014 8:02  41.1216 -73.7060  B02598     2    8\n",
       "25921   7/24/2014 17:13  41.1222 -73.7163  B02512    24   17\n",
       "125042  7/13/2014 16:53  41.1237 -73.7154  B02598    13   16\n",
       "178573  7/19/2014 18:29  41.1256 -73.6999  B02598    19   18\n",
       "21730   7/21/2014 13:54  41.1269 -73.8603  B02512    21   13\n",
       "204085   7/23/2014 7:11  41.1305 -73.7554  B02598    23    7\n",
       "29606   7/27/2014 21:32  41.1367 -73.7777  B02512    27   21\n",
       "257777  7/29/2014 15:54  41.1400 -73.8116  B02598    29   15\n",
       "274661  7/31/2014 15:02  41.1401 -73.8117  B02598    31   15\n",
       "191916  7/21/2014 16:59  41.1596 -73.8251  B02598    21   16\n",
       "273577  7/31/2014 12:29  41.1968 -73.6694  B02598    31   12\n",
       "204122   7/23/2014 7:16  41.1988 -73.6502  B02598    23    7\n",
       "50854    7/2/2014 22:51  41.2094 -73.5750  B02598     2   22\n",
       "230266  7/25/2014 21:01  41.2199 -73.9011  B02598    25   21\n",
       "28330   7/26/2014 16:16  41.2200 -73.7238  B02512    26   16\n",
       "273714  7/31/2014 12:51  41.3015 -73.6692  B02598    31   12\n",
       "273704  7/31/2014 12:49  41.3015 -73.6691  B02598    31   12\n",
       "\n",
       "[238597 rows x 6 columns]"
      ]
     },
     "execution_count": 14,
     "metadata": {},
     "output_type": "execute_result"
    }
   ],
   "source": [
    "uber1"
   ]
  },
  {
   "cell_type": "markdown",
   "metadata": {},
   "source": [
    "ksnfjksdf\n"
   ]
  },
  {
   "cell_type": "code",
   "execution_count": 15,
   "metadata": {},
   "outputs": [],
   "source": [
    "group1 = uber1[uber1['Lat']<=40.1263]"
   ]
  },
  {
   "cell_type": "code",
   "execution_count": 16,
   "metadata": {},
   "outputs": [],
   "source": [
    "ubertemp = uber1"
   ]
  },
  {
   "cell_type": "code",
   "execution_count": 17,
   "metadata": {},
   "outputs": [
    {
     "data": {
      "text/plain": [
       "(28, 6)"
      ]
     },
     "execution_count": 17,
     "metadata": {},
     "output_type": "execute_result"
    }
   ],
   "source": [
    "group1.shape"
   ]
  },
  {
   "cell_type": "code",
   "execution_count": 18,
   "metadata": {},
   "outputs": [
    {
     "data": {
      "text/plain": [
       "(238569, 6)"
      ]
     },
     "execution_count": 18,
     "metadata": {},
     "output_type": "execute_result"
    }
   ],
   "source": [
    "ubertemp = ubertemp[ubertemp['Lat']>40.1263]\n",
    "ubertemp.shape"
   ]
  },
  {
   "cell_type": "code",
   "execution_count": 19,
   "metadata": {},
   "outputs": [
    {
     "data": {
      "text/plain": [
       "(170, 6)"
      ]
     },
     "execution_count": 19,
     "metadata": {},
     "output_type": "execute_result"
    }
   ],
   "source": [
    "group5 = ubertemp[ubertemp['Lat']<=40.5312]\n",
    "group5.shape"
   ]
  },
  {
   "cell_type": "code",
   "execution_count": 20,
   "metadata": {},
   "outputs": [
    {
     "data": {
      "text/plain": [
       "(238399, 6)"
      ]
     },
     "execution_count": 20,
     "metadata": {},
     "output_type": "execute_result"
    }
   ],
   "source": [
    "ubertemp = ubertemp[ubertemp['Lat']>40.5312]\n",
    "ubertemp.shape"
   ]
  },
  {
   "cell_type": "code",
   "execution_count": 21,
   "metadata": {},
   "outputs": [
    {
     "data": {
      "text/plain": [
       "(237769, 6)"
      ]
     },
     "execution_count": 21,
     "metadata": {},
     "output_type": "execute_result"
    }
   ],
   "source": [
    "group9 = ubertemp[ubertemp['Lat']<=40.9361]\n",
    "group9.shape"
   ]
  },
  {
   "cell_type": "code",
   "execution_count": 22,
   "metadata": {},
   "outputs": [
    {
     "data": {
      "text/plain": [
       "(630, 6)"
      ]
     },
     "execution_count": 22,
     "metadata": {},
     "output_type": "execute_result"
    }
   ],
   "source": [
    "ubertemp = ubertemp[ubertemp['Lat']>40.9361]\n",
    "ubertemp.shape"
   ]
  },
  {
   "cell_type": "code",
   "execution_count": 23,
   "metadata": {},
   "outputs": [],
   "source": [
    "group13 = ubertemp"
   ]
  },
  {
   "cell_type": "code",
   "execution_count": 24,
   "metadata": {},
   "outputs": [
    {
     "data": {
      "text/plain": [
       "(28, 6)"
      ]
     },
     "execution_count": 24,
     "metadata": {},
     "output_type": "execute_result"
    }
   ],
   "source": [
    "grouptemp = group1\n",
    "group1.shape"
   ]
  },
  {
   "cell_type": "code",
   "execution_count": 25,
   "metadata": {},
   "outputs": [
    {
     "data": {
      "text/plain": [
       "(28, 6)"
      ]
     },
     "execution_count": 25,
     "metadata": {},
     "output_type": "execute_result"
    }
   ],
   "source": [
    "grouptemp.shape"
   ]
  },
  {
   "cell_type": "code",
   "execution_count": 26,
   "metadata": {},
   "outputs": [],
   "source": [
    "g1 = group1[group1['Lon']<=-74.1970]\n"
   ]
  },
  {
   "cell_type": "code",
   "execution_count": 27,
   "metadata": {},
   "outputs": [
    {
     "data": {
      "text/plain": [
       "(0, 6)"
      ]
     },
     "execution_count": 27,
     "metadata": {},
     "output_type": "execute_result"
    }
   ],
   "source": [
    "g1.shape"
   ]
  },
  {
   "cell_type": "code",
   "execution_count": 28,
   "metadata": {},
   "outputs": [
    {
     "data": {
      "text/plain": [
       "(28, 6)"
      ]
     },
     "execution_count": 28,
     "metadata": {},
     "output_type": "execute_result"
    }
   ],
   "source": [
    "grouptemp = grouptemp[grouptemp['Lon']>-74.1970]\n",
    "grouptemp.shape"
   ]
  },
  {
   "cell_type": "code",
   "execution_count": 29,
   "metadata": {},
   "outputs": [
    {
     "data": {
      "text/plain": [
       "(28, 6)"
      ]
     },
     "execution_count": 29,
     "metadata": {},
     "output_type": "execute_result"
    }
   ],
   "source": [
    "g2 = grouptemp[grouptemp['Lon']<=-73.5680]\n",
    "g2.shape"
   ]
  },
  {
   "cell_type": "code",
   "execution_count": 30,
   "metadata": {},
   "outputs": [
    {
     "data": {
      "text/plain": [
       "(0, 6)"
      ]
     },
     "execution_count": 30,
     "metadata": {},
     "output_type": "execute_result"
    }
   ],
   "source": [
    "\n",
    "grouptemp = grouptemp[grouptemp['Lon']>-73.5680]\n",
    "grouptemp.shape"
   ]
  },
  {
   "cell_type": "code",
   "execution_count": 31,
   "metadata": {},
   "outputs": [
    {
     "data": {
      "text/html": [
       "<div>\n",
       "<style scoped>\n",
       "    .dataframe tbody tr th:only-of-type {\n",
       "        vertical-align: middle;\n",
       "    }\n",
       "\n",
       "    .dataframe tbody tr th {\n",
       "        vertical-align: top;\n",
       "    }\n",
       "\n",
       "    .dataframe thead th {\n",
       "        text-align: right;\n",
       "    }\n",
       "</style>\n",
       "<table border=\"1\" class=\"dataframe\">\n",
       "  <thead>\n",
       "    <tr style=\"text-align: right;\">\n",
       "      <th></th>\n",
       "      <th>datetime</th>\n",
       "      <th>Lat</th>\n",
       "      <th>Lon</th>\n",
       "      <th>Base</th>\n",
       "      <th>date</th>\n",
       "      <th>hour</th>\n",
       "    </tr>\n",
       "  </thead>\n",
       "  <tbody>\n",
       "  </tbody>\n",
       "</table>\n",
       "</div>"
      ],
      "text/plain": [
       "Empty DataFrame\n",
       "Columns: [datetime, Lat, Lon, Base, date, hour]\n",
       "Index: []"
      ]
     },
     "execution_count": 31,
     "metadata": {},
     "output_type": "execute_result"
    }
   ],
   "source": [
    "grouptemp"
   ]
  },
  {
   "cell_type": "code",
   "execution_count": 32,
   "metadata": {},
   "outputs": [
    {
     "data": {
      "text/plain": [
       "(170, 6)"
      ]
     },
     "execution_count": 32,
     "metadata": {},
     "output_type": "execute_result"
    }
   ],
   "source": [
    "grouptemp = group5\n",
    "grouptemp.shape"
   ]
  },
  {
   "cell_type": "code",
   "execution_count": 33,
   "metadata": {},
   "outputs": [
    {
     "data": {
      "text/plain": [
       "(59, 6)"
      ]
     },
     "execution_count": 33,
     "metadata": {},
     "output_type": "execute_result"
    }
   ],
   "source": [
    "g5 = grouptemp[grouptemp['Lon']<=-74.1970]\n",
    "g5.shape"
   ]
  },
  {
   "cell_type": "code",
   "execution_count": 34,
   "metadata": {},
   "outputs": [
    {
     "data": {
      "text/plain": [
       "(111, 6)"
      ]
     },
     "execution_count": 34,
     "metadata": {},
     "output_type": "execute_result"
    }
   ],
   "source": [
    "grouptemp = grouptemp[grouptemp['Lon']>-74.1970]\n",
    "grouptemp.shape"
   ]
  },
  {
   "cell_type": "code",
   "execution_count": 35,
   "metadata": {},
   "outputs": [
    {
     "data": {
      "text/plain": [
       "(111, 6)"
      ]
     },
     "execution_count": 35,
     "metadata": {},
     "output_type": "execute_result"
    }
   ],
   "source": [
    "g6 = grouptemp[grouptemp['Lon']<=-73.5680]\n",
    "g6.shape"
   ]
  },
  {
   "cell_type": "code",
   "execution_count": 36,
   "metadata": {},
   "outputs": [
    {
     "data": {
      "text/plain": [
       "(0, 6)"
      ]
     },
     "execution_count": 36,
     "metadata": {},
     "output_type": "execute_result"
    }
   ],
   "source": [
    "grouptemp =  grouptemp[grouptemp['Lon']>-72.9390]\n",
    "grouptemp.shape"
   ]
  },
  {
   "cell_type": "code",
   "execution_count": 37,
   "metadata": {},
   "outputs": [],
   "source": [
    "grouptemp = group5"
   ]
  },
  {
   "cell_type": "code",
   "execution_count": 38,
   "metadata": {},
   "outputs": [
    {
     "data": {
      "text/plain": [
       "(0, 6)"
      ]
     },
     "execution_count": 38,
     "metadata": {},
     "output_type": "execute_result"
    }
   ],
   "source": [
    "grouptemp =  grouptemp[grouptemp['Lon']>-73.5680]\n",
    "grouptemp.shape"
   ]
  },
  {
   "cell_type": "code",
   "execution_count": 39,
   "metadata": {},
   "outputs": [
    {
     "data": {
      "text/plain": [
       "(237769, 6)"
      ]
     },
     "execution_count": 39,
     "metadata": {},
     "output_type": "execute_result"
    }
   ],
   "source": [
    "grouptemp = group9\n",
    "grouptemp.shape"
   ]
  },
  {
   "cell_type": "code",
   "execution_count": 40,
   "metadata": {},
   "outputs": [
    {
     "data": {
      "text/plain": [
       "(361, 6)"
      ]
     },
     "execution_count": 40,
     "metadata": {},
     "output_type": "execute_result"
    }
   ],
   "source": [
    "g9 = grouptemp[grouptemp['Lon']<=-74.1970]\n",
    "g9.shape"
   ]
  },
  {
   "cell_type": "code",
   "execution_count": 41,
   "metadata": {},
   "outputs": [
    {
     "data": {
      "text/plain": [
       "(237408, 6)"
      ]
     },
     "execution_count": 41,
     "metadata": {},
     "output_type": "execute_result"
    }
   ],
   "source": [
    "grouptemp = grouptemp[grouptemp['Lon']>-74.1970]\n",
    "grouptemp.shape"
   ]
  },
  {
   "cell_type": "code",
   "execution_count": 42,
   "metadata": {},
   "outputs": [
    {
     "data": {
      "text/plain": [
       "(237072, 6)"
      ]
     },
     "execution_count": 42,
     "metadata": {},
     "output_type": "execute_result"
    }
   ],
   "source": [
    "g10 = grouptemp[grouptemp['Lon']<=-73.5680]\n",
    "g10.shape"
   ]
  },
  {
   "cell_type": "code",
   "execution_count": 43,
   "metadata": {},
   "outputs": [
    {
     "data": {
      "text/plain": [
       "(336, 6)"
      ]
     },
     "execution_count": 43,
     "metadata": {},
     "output_type": "execute_result"
    }
   ],
   "source": [
    "grouptemp =  grouptemp[grouptemp['Lon']>-73.5680]\n",
    "grouptemp.shape"
   ]
  },
  {
   "cell_type": "code",
   "execution_count": 44,
   "metadata": {},
   "outputs": [
    {
     "data": {
      "text/plain": [
       "(328, 6)"
      ]
     },
     "execution_count": 44,
     "metadata": {},
     "output_type": "execute_result"
    }
   ],
   "source": [
    "g11 = grouptemp[grouptemp['Lon']<=-72.9390]\n",
    "g11.shape"
   ]
  },
  {
   "cell_type": "code",
   "execution_count": 45,
   "metadata": {},
   "outputs": [
    {
     "data": {
      "text/plain": [
       "(8, 6)"
      ]
     },
     "execution_count": 45,
     "metadata": {},
     "output_type": "execute_result"
    }
   ],
   "source": [
    "grouptemp =  grouptemp[grouptemp['Lon']>-72.9390]\n",
    "grouptemp.shape"
   ]
  },
  {
   "cell_type": "code",
   "execution_count": 46,
   "metadata": {},
   "outputs": [],
   "source": [
    "g12 = grouptemp"
   ]
  },
  {
   "cell_type": "code",
   "execution_count": 47,
   "metadata": {},
   "outputs": [
    {
     "data": {
      "text/plain": [
       "(630, 6)"
      ]
     },
     "execution_count": 47,
     "metadata": {},
     "output_type": "execute_result"
    }
   ],
   "source": [
    "grouptemp = group13\n",
    "grouptemp.shape"
   ]
  },
  {
   "cell_type": "code",
   "execution_count": 48,
   "metadata": {},
   "outputs": [
    {
     "data": {
      "text/plain": [
       "(15, 6)"
      ]
     },
     "execution_count": 48,
     "metadata": {},
     "output_type": "execute_result"
    }
   ],
   "source": [
    "g13 = grouptemp[grouptemp['Lon']<=-74.1970]\n",
    "g13.shape"
   ]
  },
  {
   "cell_type": "code",
   "execution_count": 49,
   "metadata": {},
   "outputs": [
    {
     "data": {
      "text/plain": [
       "(615, 6)"
      ]
     },
     "execution_count": 49,
     "metadata": {},
     "output_type": "execute_result"
    }
   ],
   "source": [
    "grouptemp = grouptemp[grouptemp['Lon']>-74.1970]\n",
    "grouptemp.shape"
   ]
  },
  {
   "cell_type": "code",
   "execution_count": 50,
   "metadata": {},
   "outputs": [
    {
     "data": {
      "text/plain": [
       "(615, 6)"
      ]
     },
     "execution_count": 50,
     "metadata": {},
     "output_type": "execute_result"
    }
   ],
   "source": [
    "g14 = grouptemp[grouptemp['Lon']<=-73.5680]\n",
    "g14.shape"
   ]
  },
  {
   "cell_type": "code",
   "execution_count": 51,
   "metadata": {},
   "outputs": [
    {
     "data": {
      "text/plain": [
       "(0, 6)"
      ]
     },
     "execution_count": 51,
     "metadata": {},
     "output_type": "execute_result"
    }
   ],
   "source": [
    "grouptemp =  grouptemp[grouptemp['Lon']>-73.5680]\n",
    "grouptemp.shape"
   ]
  },
  {
   "cell_type": "code",
   "execution_count": 52,
   "metadata": {},
   "outputs": [],
   "source": [
    "finaluber = None\n",
    "\n"
   ]
  },
  {
   "cell_type": "code",
   "execution_count": 53,
   "metadata": {},
   "outputs": [],
   "source": [
    "g2[\"area\"] = 'g2'"
   ]
  },
  {
   "cell_type": "code",
   "execution_count": 54,
   "metadata": {},
   "outputs": [
    {
     "data": {
      "text/html": [
       "<div>\n",
       "<style scoped>\n",
       "    .dataframe tbody tr th:only-of-type {\n",
       "        vertical-align: middle;\n",
       "    }\n",
       "\n",
       "    .dataframe tbody tr th {\n",
       "        vertical-align: top;\n",
       "    }\n",
       "\n",
       "    .dataframe thead th {\n",
       "        text-align: right;\n",
       "    }\n",
       "</style>\n",
       "<table border=\"1\" class=\"dataframe\">\n",
       "  <thead>\n",
       "    <tr style=\"text-align: right;\">\n",
       "      <th></th>\n",
       "      <th>datetime</th>\n",
       "      <th>Lat</th>\n",
       "      <th>Lon</th>\n",
       "      <th>Base</th>\n",
       "      <th>date</th>\n",
       "      <th>hour</th>\n",
       "      <th>area</th>\n",
       "    </tr>\n",
       "  </thead>\n",
       "  <tbody>\n",
       "    <tr>\n",
       "      <th>11647</th>\n",
       "      <td>7/12/2014 22:49</td>\n",
       "      <td>39.9055</td>\n",
       "      <td>-74.0791</td>\n",
       "      <td>B02512</td>\n",
       "      <td>12</td>\n",
       "      <td>22</td>\n",
       "      <td>g2</td>\n",
       "    </tr>\n",
       "    <tr>\n",
       "      <th>11779</th>\n",
       "      <td>7/13/2014 1:21</td>\n",
       "      <td>39.9374</td>\n",
       "      <td>-74.0722</td>\n",
       "      <td>B02512</td>\n",
       "      <td>13</td>\n",
       "      <td>1</td>\n",
       "      <td>g2</td>\n",
       "    </tr>\n",
       "    <tr>\n",
       "      <th>11798</th>\n",
       "      <td>7/13/2014 1:55</td>\n",
       "      <td>39.9385</td>\n",
       "      <td>-74.0734</td>\n",
       "      <td>B02512</td>\n",
       "      <td>13</td>\n",
       "      <td>1</td>\n",
       "      <td>g2</td>\n",
       "    </tr>\n",
       "    <tr>\n",
       "      <th>11732</th>\n",
       "      <td>7/13/2014 0:13</td>\n",
       "      <td>39.9417</td>\n",
       "      <td>-74.0737</td>\n",
       "      <td>B02512</td>\n",
       "      <td>13</td>\n",
       "      <td>0</td>\n",
       "      <td>g2</td>\n",
       "    </tr>\n",
       "    <tr>\n",
       "      <th>28687</th>\n",
       "      <td>7/26/2014 21:01</td>\n",
       "      <td>39.9727</td>\n",
       "      <td>-74.0695</td>\n",
       "      <td>B02512</td>\n",
       "      <td>26</td>\n",
       "      <td>21</td>\n",
       "      <td>g2</td>\n",
       "    </tr>\n",
       "    <tr>\n",
       "      <th>11602</th>\n",
       "      <td>7/12/2014 22:05</td>\n",
       "      <td>39.9761</td>\n",
       "      <td>-74.0654</td>\n",
       "      <td>B02512</td>\n",
       "      <td>12</td>\n",
       "      <td>22</td>\n",
       "      <td>g2</td>\n",
       "    </tr>\n",
       "    <tr>\n",
       "      <th>28758</th>\n",
       "      <td>7/26/2014 21:52</td>\n",
       "      <td>39.9965</td>\n",
       "      <td>-74.0641</td>\n",
       "      <td>B02512</td>\n",
       "      <td>26</td>\n",
       "      <td>21</td>\n",
       "      <td>g2</td>\n",
       "    </tr>\n",
       "    <tr>\n",
       "      <th>27778</th>\n",
       "      <td>7/25/2014 23:52</td>\n",
       "      <td>40.0161</td>\n",
       "      <td>-74.0571</td>\n",
       "      <td>B02512</td>\n",
       "      <td>25</td>\n",
       "      <td>23</td>\n",
       "      <td>g2</td>\n",
       "    </tr>\n",
       "    <tr>\n",
       "      <th>19516</th>\n",
       "      <td>7/19/2014 0:45</td>\n",
       "      <td>40.0162</td>\n",
       "      <td>-74.0570</td>\n",
       "      <td>B02512</td>\n",
       "      <td>19</td>\n",
       "      <td>0</td>\n",
       "      <td>g2</td>\n",
       "    </tr>\n",
       "    <tr>\n",
       "      <th>19500</th>\n",
       "      <td>7/19/2014 0:24</td>\n",
       "      <td>40.0200</td>\n",
       "      <td>-74.0557</td>\n",
       "      <td>B02512</td>\n",
       "      <td>19</td>\n",
       "      <td>0</td>\n",
       "      <td>g2</td>\n",
       "    </tr>\n",
       "    <tr>\n",
       "      <th>27665</th>\n",
       "      <td>7/25/2014 22:11</td>\n",
       "      <td>40.0396</td>\n",
       "      <td>-74.1709</td>\n",
       "      <td>B02512</td>\n",
       "      <td>25</td>\n",
       "      <td>22</td>\n",
       "      <td>g2</td>\n",
       "    </tr>\n",
       "    <tr>\n",
       "      <th>11561</th>\n",
       "      <td>7/12/2014 21:25</td>\n",
       "      <td>40.0549</td>\n",
       "      <td>-74.0474</td>\n",
       "      <td>B02512</td>\n",
       "      <td>12</td>\n",
       "      <td>21</td>\n",
       "      <td>g2</td>\n",
       "    </tr>\n",
       "    <tr>\n",
       "      <th>28791</th>\n",
       "      <td>7/26/2014 22:17</td>\n",
       "      <td>40.0573</td>\n",
       "      <td>-74.0675</td>\n",
       "      <td>B02512</td>\n",
       "      <td>26</td>\n",
       "      <td>22</td>\n",
       "      <td>g2</td>\n",
       "    </tr>\n",
       "    <tr>\n",
       "      <th>19375</th>\n",
       "      <td>7/18/2014 22:19</td>\n",
       "      <td>40.0680</td>\n",
       "      <td>-74.0444</td>\n",
       "      <td>B02512</td>\n",
       "      <td>18</td>\n",
       "      <td>22</td>\n",
       "      <td>g2</td>\n",
       "    </tr>\n",
       "    <tr>\n",
       "      <th>10550</th>\n",
       "      <td>7/11/2014 20:47</td>\n",
       "      <td>40.0736</td>\n",
       "      <td>-74.0552</td>\n",
       "      <td>B02512</td>\n",
       "      <td>11</td>\n",
       "      <td>20</td>\n",
       "      <td>g2</td>\n",
       "    </tr>\n",
       "    <tr>\n",
       "      <th>20166</th>\n",
       "      <td>7/19/2014 19:38</td>\n",
       "      <td>40.0894</td>\n",
       "      <td>-74.0398</td>\n",
       "      <td>B02512</td>\n",
       "      <td>19</td>\n",
       "      <td>19</td>\n",
       "      <td>g2</td>\n",
       "    </tr>\n",
       "    <tr>\n",
       "      <th>252291</th>\n",
       "      <td>7/28/2014 19:11</td>\n",
       "      <td>40.0945</td>\n",
       "      <td>-74.0367</td>\n",
       "      <td>B02598</td>\n",
       "      <td>28</td>\n",
       "      <td>19</td>\n",
       "      <td>g2</td>\n",
       "    </tr>\n",
       "    <tr>\n",
       "      <th>11683</th>\n",
       "      <td>7/12/2014 23:18</td>\n",
       "      <td>40.0947</td>\n",
       "      <td>-74.0373</td>\n",
       "      <td>B02512</td>\n",
       "      <td>12</td>\n",
       "      <td>23</td>\n",
       "      <td>g2</td>\n",
       "    </tr>\n",
       "    <tr>\n",
       "      <th>10772</th>\n",
       "      <td>7/12/2014 0:06</td>\n",
       "      <td>40.0973</td>\n",
       "      <td>-74.0879</td>\n",
       "      <td>B02512</td>\n",
       "      <td>12</td>\n",
       "      <td>0</td>\n",
       "      <td>g2</td>\n",
       "    </tr>\n",
       "    <tr>\n",
       "      <th>20429</th>\n",
       "      <td>7/20/2014 0:01</td>\n",
       "      <td>40.0973</td>\n",
       "      <td>-74.0879</td>\n",
       "      <td>B02512</td>\n",
       "      <td>20</td>\n",
       "      <td>0</td>\n",
       "      <td>g2</td>\n",
       "    </tr>\n",
       "    <tr>\n",
       "      <th>11518</th>\n",
       "      <td>7/12/2014 20:34</td>\n",
       "      <td>40.1007</td>\n",
       "      <td>-74.0438</td>\n",
       "      <td>B02512</td>\n",
       "      <td>12</td>\n",
       "      <td>20</td>\n",
       "      <td>g2</td>\n",
       "    </tr>\n",
       "    <tr>\n",
       "      <th>20244</th>\n",
       "      <td>7/19/2014 20:57</td>\n",
       "      <td>40.1016</td>\n",
       "      <td>-74.0408</td>\n",
       "      <td>B02512</td>\n",
       "      <td>19</td>\n",
       "      <td>20</td>\n",
       "      <td>g2</td>\n",
       "    </tr>\n",
       "    <tr>\n",
       "      <th>11455</th>\n",
       "      <td>7/12/2014 19:34</td>\n",
       "      <td>40.1017</td>\n",
       "      <td>-74.0406</td>\n",
       "      <td>B02512</td>\n",
       "      <td>12</td>\n",
       "      <td>19</td>\n",
       "      <td>g2</td>\n",
       "    </tr>\n",
       "    <tr>\n",
       "      <th>27589</th>\n",
       "      <td>7/25/2014 21:13</td>\n",
       "      <td>40.1099</td>\n",
       "      <td>-74.0344</td>\n",
       "      <td>B02512</td>\n",
       "      <td>25</td>\n",
       "      <td>21</td>\n",
       "      <td>g2</td>\n",
       "    </tr>\n",
       "    <tr>\n",
       "      <th>28213</th>\n",
       "      <td>7/26/2014 14:44</td>\n",
       "      <td>40.1116</td>\n",
       "      <td>-74.0367</td>\n",
       "      <td>B02512</td>\n",
       "      <td>26</td>\n",
       "      <td>14</td>\n",
       "      <td>g2</td>\n",
       "    </tr>\n",
       "    <tr>\n",
       "      <th>27750</th>\n",
       "      <td>7/25/2014 23:23</td>\n",
       "      <td>40.1123</td>\n",
       "      <td>-74.0349</td>\n",
       "      <td>B02512</td>\n",
       "      <td>25</td>\n",
       "      <td>23</td>\n",
       "      <td>g2</td>\n",
       "    </tr>\n",
       "    <tr>\n",
       "      <th>239005</th>\n",
       "      <td>7/26/2014 21:36</td>\n",
       "      <td>40.1225</td>\n",
       "      <td>-74.0495</td>\n",
       "      <td>B02598</td>\n",
       "      <td>26</td>\n",
       "      <td>21</td>\n",
       "      <td>g2</td>\n",
       "    </tr>\n",
       "    <tr>\n",
       "      <th>239007</th>\n",
       "      <td>7/26/2014 21:36</td>\n",
       "      <td>40.1225</td>\n",
       "      <td>-74.0495</td>\n",
       "      <td>B02598</td>\n",
       "      <td>26</td>\n",
       "      <td>21</td>\n",
       "      <td>g2</td>\n",
       "    </tr>\n",
       "  </tbody>\n",
       "</table>\n",
       "</div>"
      ],
      "text/plain": [
       "               datetime      Lat      Lon    Base  date hour area\n",
       "11647   7/12/2014 22:49  39.9055 -74.0791  B02512    12   22   g2\n",
       "11779    7/13/2014 1:21  39.9374 -74.0722  B02512    13    1   g2\n",
       "11798    7/13/2014 1:55  39.9385 -74.0734  B02512    13    1   g2\n",
       "11732    7/13/2014 0:13  39.9417 -74.0737  B02512    13    0   g2\n",
       "28687   7/26/2014 21:01  39.9727 -74.0695  B02512    26   21   g2\n",
       "11602   7/12/2014 22:05  39.9761 -74.0654  B02512    12   22   g2\n",
       "28758   7/26/2014 21:52  39.9965 -74.0641  B02512    26   21   g2\n",
       "27778   7/25/2014 23:52  40.0161 -74.0571  B02512    25   23   g2\n",
       "19516    7/19/2014 0:45  40.0162 -74.0570  B02512    19    0   g2\n",
       "19500    7/19/2014 0:24  40.0200 -74.0557  B02512    19    0   g2\n",
       "27665   7/25/2014 22:11  40.0396 -74.1709  B02512    25   22   g2\n",
       "11561   7/12/2014 21:25  40.0549 -74.0474  B02512    12   21   g2\n",
       "28791   7/26/2014 22:17  40.0573 -74.0675  B02512    26   22   g2\n",
       "19375   7/18/2014 22:19  40.0680 -74.0444  B02512    18   22   g2\n",
       "10550   7/11/2014 20:47  40.0736 -74.0552  B02512    11   20   g2\n",
       "20166   7/19/2014 19:38  40.0894 -74.0398  B02512    19   19   g2\n",
       "252291  7/28/2014 19:11  40.0945 -74.0367  B02598    28   19   g2\n",
       "11683   7/12/2014 23:18  40.0947 -74.0373  B02512    12   23   g2\n",
       "10772    7/12/2014 0:06  40.0973 -74.0879  B02512    12    0   g2\n",
       "20429    7/20/2014 0:01  40.0973 -74.0879  B02512    20    0   g2\n",
       "11518   7/12/2014 20:34  40.1007 -74.0438  B02512    12   20   g2\n",
       "20244   7/19/2014 20:57  40.1016 -74.0408  B02512    19   20   g2\n",
       "11455   7/12/2014 19:34  40.1017 -74.0406  B02512    12   19   g2\n",
       "27589   7/25/2014 21:13  40.1099 -74.0344  B02512    25   21   g2\n",
       "28213   7/26/2014 14:44  40.1116 -74.0367  B02512    26   14   g2\n",
       "27750   7/25/2014 23:23  40.1123 -74.0349  B02512    25   23   g2\n",
       "239005  7/26/2014 21:36  40.1225 -74.0495  B02598    26   21   g2\n",
       "239007  7/26/2014 21:36  40.1225 -74.0495  B02598    26   21   g2"
      ]
     },
     "execution_count": 54,
     "metadata": {},
     "output_type": "execute_result"
    }
   ],
   "source": [
    "g2"
   ]
  },
  {
   "cell_type": "code",
   "execution_count": 55,
   "metadata": {},
   "outputs": [
    {
     "name": "stderr",
     "output_type": "stream",
     "text": [
      "C:\\Users\\Udbhav\\Anaconda3\\lib\\site-packages\\ipykernel_launcher.py:1: SettingWithCopyWarning: \n",
      "A value is trying to be set on a copy of a slice from a DataFrame.\n",
      "Try using .loc[row_indexer,col_indexer] = value instead\n",
      "\n",
      "See the caveats in the documentation: http://pandas.pydata.org/pandas-docs/stable/indexing.html#indexing-view-versus-copy\n",
      "  \"\"\"Entry point for launching an IPython kernel.\n"
     ]
    }
   ],
   "source": [
    "g5[\"area\"] = 'g5'"
   ]
  },
  {
   "cell_type": "code",
   "execution_count": 56,
   "metadata": {},
   "outputs": [],
   "source": [
    "g6[\"area\"] = 'g6'"
   ]
  },
  {
   "cell_type": "code",
   "execution_count": 57,
   "metadata": {},
   "outputs": [
    {
     "name": "stderr",
     "output_type": "stream",
     "text": [
      "C:\\Users\\Udbhav\\Anaconda3\\lib\\site-packages\\ipykernel_launcher.py:1: SettingWithCopyWarning: \n",
      "A value is trying to be set on a copy of a slice from a DataFrame.\n",
      "Try using .loc[row_indexer,col_indexer] = value instead\n",
      "\n",
      "See the caveats in the documentation: http://pandas.pydata.org/pandas-docs/stable/indexing.html#indexing-view-versus-copy\n",
      "  \"\"\"Entry point for launching an IPython kernel.\n"
     ]
    }
   ],
   "source": [
    "g9[\"area\"] = 'g9'"
   ]
  },
  {
   "cell_type": "code",
   "execution_count": 58,
   "metadata": {},
   "outputs": [],
   "source": [
    "g10[\"area\"] = 'g10'"
   ]
  },
  {
   "cell_type": "code",
   "execution_count": 59,
   "metadata": {},
   "outputs": [],
   "source": [
    "g11[\"area\"] = 'g11'"
   ]
  },
  {
   "cell_type": "code",
   "execution_count": 60,
   "metadata": {},
   "outputs": [],
   "source": [
    "g12[\"area\"] = 'g12'"
   ]
  },
  {
   "cell_type": "code",
   "execution_count": 61,
   "metadata": {},
   "outputs": [
    {
     "name": "stderr",
     "output_type": "stream",
     "text": [
      "C:\\Users\\Udbhav\\Anaconda3\\lib\\site-packages\\ipykernel_launcher.py:1: SettingWithCopyWarning: \n",
      "A value is trying to be set on a copy of a slice from a DataFrame.\n",
      "Try using .loc[row_indexer,col_indexer] = value instead\n",
      "\n",
      "See the caveats in the documentation: http://pandas.pydata.org/pandas-docs/stable/indexing.html#indexing-view-versus-copy\n",
      "  \"\"\"Entry point for launching an IPython kernel.\n"
     ]
    }
   ],
   "source": [
    "g13[\"area\"] = 'g13'"
   ]
  },
  {
   "cell_type": "code",
   "execution_count": 62,
   "metadata": {},
   "outputs": [],
   "source": [
    "g14[\"area\"] = 'g14'"
   ]
  },
  {
   "cell_type": "code",
   "execution_count": 63,
   "metadata": {},
   "outputs": [],
   "source": [
    "finaluber"
   ]
  },
  {
   "cell_type": "code",
   "execution_count": 64,
   "metadata": {},
   "outputs": [],
   "source": [
    "finaluber = g2"
   ]
  },
  {
   "cell_type": "code",
   "execution_count": 65,
   "metadata": {},
   "outputs": [],
   "source": [
    "finaluber = finaluber.append(g5)"
   ]
  },
  {
   "cell_type": "code",
   "execution_count": 66,
   "metadata": {},
   "outputs": [],
   "source": [
    "finaluber = finaluber.append(g6)"
   ]
  },
  {
   "cell_type": "code",
   "execution_count": 67,
   "metadata": {},
   "outputs": [],
   "source": [
    "finaluber = finaluber.append(g9)"
   ]
  },
  {
   "cell_type": "code",
   "execution_count": 68,
   "metadata": {},
   "outputs": [],
   "source": [
    "finaluber = finaluber.append(g10)"
   ]
  },
  {
   "cell_type": "code",
   "execution_count": 69,
   "metadata": {},
   "outputs": [],
   "source": [
    "finaluber = finaluber.append(g11)"
   ]
  },
  {
   "cell_type": "code",
   "execution_count": 70,
   "metadata": {},
   "outputs": [],
   "source": [
    "finaluber = finaluber.append(g12)"
   ]
  },
  {
   "cell_type": "code",
   "execution_count": 71,
   "metadata": {},
   "outputs": [],
   "source": [
    "finaluber = finaluber.append(g13)"
   ]
  },
  {
   "cell_type": "code",
   "execution_count": 72,
   "metadata": {},
   "outputs": [],
   "source": [
    "finaluber = finaluber.append(g14)"
   ]
  },
  {
   "cell_type": "code",
   "execution_count": 73,
   "metadata": {},
   "outputs": [
    {
     "data": {
      "text/html": [
       "<div>\n",
       "<style scoped>\n",
       "    .dataframe tbody tr th:only-of-type {\n",
       "        vertical-align: middle;\n",
       "    }\n",
       "\n",
       "    .dataframe tbody tr th {\n",
       "        vertical-align: top;\n",
       "    }\n",
       "\n",
       "    .dataframe thead th {\n",
       "        text-align: right;\n",
       "    }\n",
       "</style>\n",
       "<table border=\"1\" class=\"dataframe\">\n",
       "  <thead>\n",
       "    <tr style=\"text-align: right;\">\n",
       "      <th></th>\n",
       "      <th>datetime</th>\n",
       "      <th>Lat</th>\n",
       "      <th>Lon</th>\n",
       "      <th>Base</th>\n",
       "      <th>date</th>\n",
       "      <th>hour</th>\n",
       "      <th>area</th>\n",
       "    </tr>\n",
       "  </thead>\n",
       "  <tbody>\n",
       "    <tr>\n",
       "      <th>11647</th>\n",
       "      <td>7/12/2014 22:49</td>\n",
       "      <td>39.9055</td>\n",
       "      <td>-74.0791</td>\n",
       "      <td>B02512</td>\n",
       "      <td>12</td>\n",
       "      <td>22</td>\n",
       "      <td>g2</td>\n",
       "    </tr>\n",
       "    <tr>\n",
       "      <th>11779</th>\n",
       "      <td>7/13/2014 1:21</td>\n",
       "      <td>39.9374</td>\n",
       "      <td>-74.0722</td>\n",
       "      <td>B02512</td>\n",
       "      <td>13</td>\n",
       "      <td>1</td>\n",
       "      <td>g2</td>\n",
       "    </tr>\n",
       "    <tr>\n",
       "      <th>11798</th>\n",
       "      <td>7/13/2014 1:55</td>\n",
       "      <td>39.9385</td>\n",
       "      <td>-74.0734</td>\n",
       "      <td>B02512</td>\n",
       "      <td>13</td>\n",
       "      <td>1</td>\n",
       "      <td>g2</td>\n",
       "    </tr>\n",
       "    <tr>\n",
       "      <th>11732</th>\n",
       "      <td>7/13/2014 0:13</td>\n",
       "      <td>39.9417</td>\n",
       "      <td>-74.0737</td>\n",
       "      <td>B02512</td>\n",
       "      <td>13</td>\n",
       "      <td>0</td>\n",
       "      <td>g2</td>\n",
       "    </tr>\n",
       "    <tr>\n",
       "      <th>28687</th>\n",
       "      <td>7/26/2014 21:01</td>\n",
       "      <td>39.9727</td>\n",
       "      <td>-74.0695</td>\n",
       "      <td>B02512</td>\n",
       "      <td>26</td>\n",
       "      <td>21</td>\n",
       "      <td>g2</td>\n",
       "    </tr>\n",
       "  </tbody>\n",
       "</table>\n",
       "</div>"
      ],
      "text/plain": [
       "              datetime      Lat      Lon    Base  date hour area\n",
       "11647  7/12/2014 22:49  39.9055 -74.0791  B02512    12   22   g2\n",
       "11779   7/13/2014 1:21  39.9374 -74.0722  B02512    13    1   g2\n",
       "11798   7/13/2014 1:55  39.9385 -74.0734  B02512    13    1   g2\n",
       "11732   7/13/2014 0:13  39.9417 -74.0737  B02512    13    0   g2\n",
       "28687  7/26/2014 21:01  39.9727 -74.0695  B02512    26   21   g2"
      ]
     },
     "execution_count": 73,
     "metadata": {},
     "output_type": "execute_result"
    }
   ],
   "source": [
    "finaluber.head()"
   ]
  },
  {
   "cell_type": "code",
   "execution_count": 74,
   "metadata": {},
   "outputs": [
    {
     "data": {
      "text/html": [
       "<div>\n",
       "<style scoped>\n",
       "    .dataframe tbody tr th:only-of-type {\n",
       "        vertical-align: middle;\n",
       "    }\n",
       "\n",
       "    .dataframe tbody tr th {\n",
       "        vertical-align: top;\n",
       "    }\n",
       "\n",
       "    .dataframe thead th {\n",
       "        text-align: right;\n",
       "    }\n",
       "</style>\n",
       "<table border=\"1\" class=\"dataframe\">\n",
       "  <thead>\n",
       "    <tr style=\"text-align: right;\">\n",
       "      <th></th>\n",
       "      <th>Lat</th>\n",
       "      <th>Lon</th>\n",
       "      <th>date</th>\n",
       "    </tr>\n",
       "  </thead>\n",
       "  <tbody>\n",
       "    <tr>\n",
       "      <th>Lat</th>\n",
       "      <td>1.000000</td>\n",
       "      <td>0.045162</td>\n",
       "      <td>-0.010434</td>\n",
       "    </tr>\n",
       "    <tr>\n",
       "      <th>Lon</th>\n",
       "      <td>0.045162</td>\n",
       "      <td>1.000000</td>\n",
       "      <td>0.018339</td>\n",
       "    </tr>\n",
       "    <tr>\n",
       "      <th>date</th>\n",
       "      <td>-0.010434</td>\n",
       "      <td>0.018339</td>\n",
       "      <td>1.000000</td>\n",
       "    </tr>\n",
       "  </tbody>\n",
       "</table>\n",
       "</div>"
      ],
      "text/plain": [
       "           Lat       Lon      date\n",
       "Lat   1.000000  0.045162 -0.010434\n",
       "Lon   0.045162  1.000000  0.018339\n",
       "date -0.010434  0.018339  1.000000"
      ]
     },
     "execution_count": 74,
     "metadata": {},
     "output_type": "execute_result"
    }
   ],
   "source": [
    "finaluber.corr()"
   ]
  },
  {
   "cell_type": "code",
   "execution_count": 75,
   "metadata": {},
   "outputs": [
    {
     "data": {
      "text/html": [
       "<div>\n",
       "<style scoped>\n",
       "    .dataframe tbody tr th:only-of-type {\n",
       "        vertical-align: middle;\n",
       "    }\n",
       "\n",
       "    .dataframe tbody tr th {\n",
       "        vertical-align: top;\n",
       "    }\n",
       "\n",
       "    .dataframe thead th {\n",
       "        text-align: right;\n",
       "    }\n",
       "</style>\n",
       "<table border=\"1\" class=\"dataframe\">\n",
       "  <thead>\n",
       "    <tr style=\"text-align: right;\">\n",
       "      <th></th>\n",
       "      <th>datetime</th>\n",
       "      <th>Lat</th>\n",
       "      <th>Lon</th>\n",
       "      <th>Base</th>\n",
       "      <th>date</th>\n",
       "      <th>hour</th>\n",
       "      <th>area</th>\n",
       "    </tr>\n",
       "  </thead>\n",
       "  <tbody>\n",
       "    <tr>\n",
       "      <th>11647</th>\n",
       "      <td>7/12/2014 22:49</td>\n",
       "      <td>39.9055</td>\n",
       "      <td>-74.0791</td>\n",
       "      <td>B02512</td>\n",
       "      <td>12</td>\n",
       "      <td>22</td>\n",
       "      <td>g2</td>\n",
       "    </tr>\n",
       "    <tr>\n",
       "      <th>11779</th>\n",
       "      <td>7/13/2014 1:21</td>\n",
       "      <td>39.9374</td>\n",
       "      <td>-74.0722</td>\n",
       "      <td>B02512</td>\n",
       "      <td>13</td>\n",
       "      <td>1</td>\n",
       "      <td>g2</td>\n",
       "    </tr>\n",
       "    <tr>\n",
       "      <th>11798</th>\n",
       "      <td>7/13/2014 1:55</td>\n",
       "      <td>39.9385</td>\n",
       "      <td>-74.0734</td>\n",
       "      <td>B02512</td>\n",
       "      <td>13</td>\n",
       "      <td>1</td>\n",
       "      <td>g2</td>\n",
       "    </tr>\n",
       "    <tr>\n",
       "      <th>11732</th>\n",
       "      <td>7/13/2014 0:13</td>\n",
       "      <td>39.9417</td>\n",
       "      <td>-74.0737</td>\n",
       "      <td>B02512</td>\n",
       "      <td>13</td>\n",
       "      <td>0</td>\n",
       "      <td>g2</td>\n",
       "    </tr>\n",
       "    <tr>\n",
       "      <th>28687</th>\n",
       "      <td>7/26/2014 21:01</td>\n",
       "      <td>39.9727</td>\n",
       "      <td>-74.0695</td>\n",
       "      <td>B02512</td>\n",
       "      <td>26</td>\n",
       "      <td>21</td>\n",
       "      <td>g2</td>\n",
       "    </tr>\n",
       "  </tbody>\n",
       "</table>\n",
       "</div>"
      ],
      "text/plain": [
       "              datetime      Lat      Lon    Base  date hour area\n",
       "11647  7/12/2014 22:49  39.9055 -74.0791  B02512    12   22   g2\n",
       "11779   7/13/2014 1:21  39.9374 -74.0722  B02512    13    1   g2\n",
       "11798   7/13/2014 1:55  39.9385 -74.0734  B02512    13    1   g2\n",
       "11732   7/13/2014 0:13  39.9417 -74.0737  B02512    13    0   g2\n",
       "28687  7/26/2014 21:01  39.9727 -74.0695  B02512    26   21   g2"
      ]
     },
     "execution_count": 75,
     "metadata": {},
     "output_type": "execute_result"
    }
   ],
   "source": [
    "finaluber.head()"
   ]
  },
  {
   "cell_type": "code",
   "execution_count": 76,
   "metadata": {
    "scrolled": true
   },
   "outputs": [],
   "source": [
    "finaluber = finaluber.drop(['datetime', 'Lat','Lon'], axis=1)\n"
   ]
  },
  {
   "cell_type": "code",
   "execution_count": 77,
   "metadata": {},
   "outputs": [
    {
     "data": {
      "text/plain": [
       "(238597, 4)"
      ]
     },
     "execution_count": 77,
     "metadata": {},
     "output_type": "execute_result"
    }
   ],
   "source": [
    "finaluber.shape"
   ]
  },
  {
   "cell_type": "code",
   "execution_count": 78,
   "metadata": {},
   "outputs": [
    {
     "data": {
      "text/html": [
       "<div>\n",
       "<style scoped>\n",
       "    .dataframe tbody tr th:only-of-type {\n",
       "        vertical-align: middle;\n",
       "    }\n",
       "\n",
       "    .dataframe tbody tr th {\n",
       "        vertical-align: top;\n",
       "    }\n",
       "\n",
       "    .dataframe thead th {\n",
       "        text-align: right;\n",
       "    }\n",
       "</style>\n",
       "<table border=\"1\" class=\"dataframe\">\n",
       "  <thead>\n",
       "    <tr style=\"text-align: right;\">\n",
       "      <th></th>\n",
       "      <th>Base</th>\n",
       "      <th>date</th>\n",
       "      <th>hour</th>\n",
       "      <th>area</th>\n",
       "    </tr>\n",
       "  </thead>\n",
       "  <tbody>\n",
       "    <tr>\n",
       "      <th>11647</th>\n",
       "      <td>B02512</td>\n",
       "      <td>12</td>\n",
       "      <td>22</td>\n",
       "      <td>g2</td>\n",
       "    </tr>\n",
       "    <tr>\n",
       "      <th>11779</th>\n",
       "      <td>B02512</td>\n",
       "      <td>13</td>\n",
       "      <td>1</td>\n",
       "      <td>g2</td>\n",
       "    </tr>\n",
       "    <tr>\n",
       "      <th>11798</th>\n",
       "      <td>B02512</td>\n",
       "      <td>13</td>\n",
       "      <td>1</td>\n",
       "      <td>g2</td>\n",
       "    </tr>\n",
       "    <tr>\n",
       "      <th>11732</th>\n",
       "      <td>B02512</td>\n",
       "      <td>13</td>\n",
       "      <td>0</td>\n",
       "      <td>g2</td>\n",
       "    </tr>\n",
       "    <tr>\n",
       "      <th>28687</th>\n",
       "      <td>B02512</td>\n",
       "      <td>26</td>\n",
       "      <td>21</td>\n",
       "      <td>g2</td>\n",
       "    </tr>\n",
       "  </tbody>\n",
       "</table>\n",
       "</div>"
      ],
      "text/plain": [
       "         Base  date hour area\n",
       "11647  B02512    12   22   g2\n",
       "11779  B02512    13    1   g2\n",
       "11798  B02512    13    1   g2\n",
       "11732  B02512    13    0   g2\n",
       "28687  B02512    26   21   g2"
      ]
     },
     "execution_count": 78,
     "metadata": {},
     "output_type": "execute_result"
    }
   ],
   "source": [
    "finaluber.head()"
   ]
  },
  {
   "cell_type": "code",
   "execution_count": 79,
   "metadata": {},
   "outputs": [],
   "source": [
    "g2 = g2.sort_values(by='hour')"
   ]
  },
  {
   "cell_type": "code",
   "execution_count": 80,
   "metadata": {},
   "outputs": [
    {
     "data": {
      "text/html": [
       "<div>\n",
       "<style scoped>\n",
       "    .dataframe tbody tr th:only-of-type {\n",
       "        vertical-align: middle;\n",
       "    }\n",
       "\n",
       "    .dataframe tbody tr th {\n",
       "        vertical-align: top;\n",
       "    }\n",
       "\n",
       "    .dataframe thead th {\n",
       "        text-align: right;\n",
       "    }\n",
       "</style>\n",
       "<table border=\"1\" class=\"dataframe\">\n",
       "  <thead>\n",
       "    <tr style=\"text-align: right;\">\n",
       "      <th></th>\n",
       "      <th>datetime</th>\n",
       "      <th>Lat</th>\n",
       "      <th>Lon</th>\n",
       "      <th>Base</th>\n",
       "      <th>date</th>\n",
       "      <th>hour</th>\n",
       "      <th>area</th>\n",
       "    </tr>\n",
       "  </thead>\n",
       "  <tbody>\n",
       "    <tr>\n",
       "      <th>19500</th>\n",
       "      <td>7/19/2014 0:24</td>\n",
       "      <td>40.0200</td>\n",
       "      <td>-74.0557</td>\n",
       "      <td>B02512</td>\n",
       "      <td>19</td>\n",
       "      <td>0</td>\n",
       "      <td>g2</td>\n",
       "    </tr>\n",
       "    <tr>\n",
       "      <th>10772</th>\n",
       "      <td>7/12/2014 0:06</td>\n",
       "      <td>40.0973</td>\n",
       "      <td>-74.0879</td>\n",
       "      <td>B02512</td>\n",
       "      <td>12</td>\n",
       "      <td>0</td>\n",
       "      <td>g2</td>\n",
       "    </tr>\n",
       "    <tr>\n",
       "      <th>19516</th>\n",
       "      <td>7/19/2014 0:45</td>\n",
       "      <td>40.0162</td>\n",
       "      <td>-74.0570</td>\n",
       "      <td>B02512</td>\n",
       "      <td>19</td>\n",
       "      <td>0</td>\n",
       "      <td>g2</td>\n",
       "    </tr>\n",
       "    <tr>\n",
       "      <th>20429</th>\n",
       "      <td>7/20/2014 0:01</td>\n",
       "      <td>40.0973</td>\n",
       "      <td>-74.0879</td>\n",
       "      <td>B02512</td>\n",
       "      <td>20</td>\n",
       "      <td>0</td>\n",
       "      <td>g2</td>\n",
       "    </tr>\n",
       "    <tr>\n",
       "      <th>11732</th>\n",
       "      <td>7/13/2014 0:13</td>\n",
       "      <td>39.9417</td>\n",
       "      <td>-74.0737</td>\n",
       "      <td>B02512</td>\n",
       "      <td>13</td>\n",
       "      <td>0</td>\n",
       "      <td>g2</td>\n",
       "    </tr>\n",
       "    <tr>\n",
       "      <th>11798</th>\n",
       "      <td>7/13/2014 1:55</td>\n",
       "      <td>39.9385</td>\n",
       "      <td>-74.0734</td>\n",
       "      <td>B02512</td>\n",
       "      <td>13</td>\n",
       "      <td>1</td>\n",
       "      <td>g2</td>\n",
       "    </tr>\n",
       "    <tr>\n",
       "      <th>11779</th>\n",
       "      <td>7/13/2014 1:21</td>\n",
       "      <td>39.9374</td>\n",
       "      <td>-74.0722</td>\n",
       "      <td>B02512</td>\n",
       "      <td>13</td>\n",
       "      <td>1</td>\n",
       "      <td>g2</td>\n",
       "    </tr>\n",
       "    <tr>\n",
       "      <th>28213</th>\n",
       "      <td>7/26/2014 14:44</td>\n",
       "      <td>40.1116</td>\n",
       "      <td>-74.0367</td>\n",
       "      <td>B02512</td>\n",
       "      <td>26</td>\n",
       "      <td>14</td>\n",
       "      <td>g2</td>\n",
       "    </tr>\n",
       "    <tr>\n",
       "      <th>11455</th>\n",
       "      <td>7/12/2014 19:34</td>\n",
       "      <td>40.1017</td>\n",
       "      <td>-74.0406</td>\n",
       "      <td>B02512</td>\n",
       "      <td>12</td>\n",
       "      <td>19</td>\n",
       "      <td>g2</td>\n",
       "    </tr>\n",
       "    <tr>\n",
       "      <th>20166</th>\n",
       "      <td>7/19/2014 19:38</td>\n",
       "      <td>40.0894</td>\n",
       "      <td>-74.0398</td>\n",
       "      <td>B02512</td>\n",
       "      <td>19</td>\n",
       "      <td>19</td>\n",
       "      <td>g2</td>\n",
       "    </tr>\n",
       "    <tr>\n",
       "      <th>252291</th>\n",
       "      <td>7/28/2014 19:11</td>\n",
       "      <td>40.0945</td>\n",
       "      <td>-74.0367</td>\n",
       "      <td>B02598</td>\n",
       "      <td>28</td>\n",
       "      <td>19</td>\n",
       "      <td>g2</td>\n",
       "    </tr>\n",
       "    <tr>\n",
       "      <th>20244</th>\n",
       "      <td>7/19/2014 20:57</td>\n",
       "      <td>40.1016</td>\n",
       "      <td>-74.0408</td>\n",
       "      <td>B02512</td>\n",
       "      <td>19</td>\n",
       "      <td>20</td>\n",
       "      <td>g2</td>\n",
       "    </tr>\n",
       "    <tr>\n",
       "      <th>10550</th>\n",
       "      <td>7/11/2014 20:47</td>\n",
       "      <td>40.0736</td>\n",
       "      <td>-74.0552</td>\n",
       "      <td>B02512</td>\n",
       "      <td>11</td>\n",
       "      <td>20</td>\n",
       "      <td>g2</td>\n",
       "    </tr>\n",
       "    <tr>\n",
       "      <th>11518</th>\n",
       "      <td>7/12/2014 20:34</td>\n",
       "      <td>40.1007</td>\n",
       "      <td>-74.0438</td>\n",
       "      <td>B02512</td>\n",
       "      <td>12</td>\n",
       "      <td>20</td>\n",
       "      <td>g2</td>\n",
       "    </tr>\n",
       "    <tr>\n",
       "      <th>28687</th>\n",
       "      <td>7/26/2014 21:01</td>\n",
       "      <td>39.9727</td>\n",
       "      <td>-74.0695</td>\n",
       "      <td>B02512</td>\n",
       "      <td>26</td>\n",
       "      <td>21</td>\n",
       "      <td>g2</td>\n",
       "    </tr>\n",
       "    <tr>\n",
       "      <th>28758</th>\n",
       "      <td>7/26/2014 21:52</td>\n",
       "      <td>39.9965</td>\n",
       "      <td>-74.0641</td>\n",
       "      <td>B02512</td>\n",
       "      <td>26</td>\n",
       "      <td>21</td>\n",
       "      <td>g2</td>\n",
       "    </tr>\n",
       "    <tr>\n",
       "      <th>27589</th>\n",
       "      <td>7/25/2014 21:13</td>\n",
       "      <td>40.1099</td>\n",
       "      <td>-74.0344</td>\n",
       "      <td>B02512</td>\n",
       "      <td>25</td>\n",
       "      <td>21</td>\n",
       "      <td>g2</td>\n",
       "    </tr>\n",
       "    <tr>\n",
       "      <th>11561</th>\n",
       "      <td>7/12/2014 21:25</td>\n",
       "      <td>40.0549</td>\n",
       "      <td>-74.0474</td>\n",
       "      <td>B02512</td>\n",
       "      <td>12</td>\n",
       "      <td>21</td>\n",
       "      <td>g2</td>\n",
       "    </tr>\n",
       "    <tr>\n",
       "      <th>239005</th>\n",
       "      <td>7/26/2014 21:36</td>\n",
       "      <td>40.1225</td>\n",
       "      <td>-74.0495</td>\n",
       "      <td>B02598</td>\n",
       "      <td>26</td>\n",
       "      <td>21</td>\n",
       "      <td>g2</td>\n",
       "    </tr>\n",
       "    <tr>\n",
       "      <th>239007</th>\n",
       "      <td>7/26/2014 21:36</td>\n",
       "      <td>40.1225</td>\n",
       "      <td>-74.0495</td>\n",
       "      <td>B02598</td>\n",
       "      <td>26</td>\n",
       "      <td>21</td>\n",
       "      <td>g2</td>\n",
       "    </tr>\n",
       "    <tr>\n",
       "      <th>11647</th>\n",
       "      <td>7/12/2014 22:49</td>\n",
       "      <td>39.9055</td>\n",
       "      <td>-74.0791</td>\n",
       "      <td>B02512</td>\n",
       "      <td>12</td>\n",
       "      <td>22</td>\n",
       "      <td>g2</td>\n",
       "    </tr>\n",
       "    <tr>\n",
       "      <th>28791</th>\n",
       "      <td>7/26/2014 22:17</td>\n",
       "      <td>40.0573</td>\n",
       "      <td>-74.0675</td>\n",
       "      <td>B02512</td>\n",
       "      <td>26</td>\n",
       "      <td>22</td>\n",
       "      <td>g2</td>\n",
       "    </tr>\n",
       "    <tr>\n",
       "      <th>27665</th>\n",
       "      <td>7/25/2014 22:11</td>\n",
       "      <td>40.0396</td>\n",
       "      <td>-74.1709</td>\n",
       "      <td>B02512</td>\n",
       "      <td>25</td>\n",
       "      <td>22</td>\n",
       "      <td>g2</td>\n",
       "    </tr>\n",
       "    <tr>\n",
       "      <th>11602</th>\n",
       "      <td>7/12/2014 22:05</td>\n",
       "      <td>39.9761</td>\n",
       "      <td>-74.0654</td>\n",
       "      <td>B02512</td>\n",
       "      <td>12</td>\n",
       "      <td>22</td>\n",
       "      <td>g2</td>\n",
       "    </tr>\n",
       "    <tr>\n",
       "      <th>19375</th>\n",
       "      <td>7/18/2014 22:19</td>\n",
       "      <td>40.0680</td>\n",
       "      <td>-74.0444</td>\n",
       "      <td>B02512</td>\n",
       "      <td>18</td>\n",
       "      <td>22</td>\n",
       "      <td>g2</td>\n",
       "    </tr>\n",
       "    <tr>\n",
       "      <th>27778</th>\n",
       "      <td>7/25/2014 23:52</td>\n",
       "      <td>40.0161</td>\n",
       "      <td>-74.0571</td>\n",
       "      <td>B02512</td>\n",
       "      <td>25</td>\n",
       "      <td>23</td>\n",
       "      <td>g2</td>\n",
       "    </tr>\n",
       "    <tr>\n",
       "      <th>27750</th>\n",
       "      <td>7/25/2014 23:23</td>\n",
       "      <td>40.1123</td>\n",
       "      <td>-74.0349</td>\n",
       "      <td>B02512</td>\n",
       "      <td>25</td>\n",
       "      <td>23</td>\n",
       "      <td>g2</td>\n",
       "    </tr>\n",
       "    <tr>\n",
       "      <th>11683</th>\n",
       "      <td>7/12/2014 23:18</td>\n",
       "      <td>40.0947</td>\n",
       "      <td>-74.0373</td>\n",
       "      <td>B02512</td>\n",
       "      <td>12</td>\n",
       "      <td>23</td>\n",
       "      <td>g2</td>\n",
       "    </tr>\n",
       "  </tbody>\n",
       "</table>\n",
       "</div>"
      ],
      "text/plain": [
       "               datetime      Lat      Lon    Base  date hour area\n",
       "19500    7/19/2014 0:24  40.0200 -74.0557  B02512    19    0   g2\n",
       "10772    7/12/2014 0:06  40.0973 -74.0879  B02512    12    0   g2\n",
       "19516    7/19/2014 0:45  40.0162 -74.0570  B02512    19    0   g2\n",
       "20429    7/20/2014 0:01  40.0973 -74.0879  B02512    20    0   g2\n",
       "11732    7/13/2014 0:13  39.9417 -74.0737  B02512    13    0   g2\n",
       "11798    7/13/2014 1:55  39.9385 -74.0734  B02512    13    1   g2\n",
       "11779    7/13/2014 1:21  39.9374 -74.0722  B02512    13    1   g2\n",
       "28213   7/26/2014 14:44  40.1116 -74.0367  B02512    26   14   g2\n",
       "11455   7/12/2014 19:34  40.1017 -74.0406  B02512    12   19   g2\n",
       "20166   7/19/2014 19:38  40.0894 -74.0398  B02512    19   19   g2\n",
       "252291  7/28/2014 19:11  40.0945 -74.0367  B02598    28   19   g2\n",
       "20244   7/19/2014 20:57  40.1016 -74.0408  B02512    19   20   g2\n",
       "10550   7/11/2014 20:47  40.0736 -74.0552  B02512    11   20   g2\n",
       "11518   7/12/2014 20:34  40.1007 -74.0438  B02512    12   20   g2\n",
       "28687   7/26/2014 21:01  39.9727 -74.0695  B02512    26   21   g2\n",
       "28758   7/26/2014 21:52  39.9965 -74.0641  B02512    26   21   g2\n",
       "27589   7/25/2014 21:13  40.1099 -74.0344  B02512    25   21   g2\n",
       "11561   7/12/2014 21:25  40.0549 -74.0474  B02512    12   21   g2\n",
       "239005  7/26/2014 21:36  40.1225 -74.0495  B02598    26   21   g2\n",
       "239007  7/26/2014 21:36  40.1225 -74.0495  B02598    26   21   g2\n",
       "11647   7/12/2014 22:49  39.9055 -74.0791  B02512    12   22   g2\n",
       "28791   7/26/2014 22:17  40.0573 -74.0675  B02512    26   22   g2\n",
       "27665   7/25/2014 22:11  40.0396 -74.1709  B02512    25   22   g2\n",
       "11602   7/12/2014 22:05  39.9761 -74.0654  B02512    12   22   g2\n",
       "19375   7/18/2014 22:19  40.0680 -74.0444  B02512    18   22   g2\n",
       "27778   7/25/2014 23:52  40.0161 -74.0571  B02512    25   23   g2\n",
       "27750   7/25/2014 23:23  40.1123 -74.0349  B02512    25   23   g2\n",
       "11683   7/12/2014 23:18  40.0947 -74.0373  B02512    12   23   g2"
      ]
     },
     "execution_count": 80,
     "metadata": {},
     "output_type": "execute_result"
    }
   ],
   "source": [
    "g2\n"
   ]
  },
  {
   "cell_type": "code",
   "execution_count": 81,
   "metadata": {},
   "outputs": [],
   "source": [
    "g2 = g2.drop(columns=['Base','date','datetime', 'Lat','Lon']) "
   ]
  },
  {
   "cell_type": "code",
   "execution_count": 82,
   "metadata": {},
   "outputs": [
    {
     "data": {
      "text/html": [
       "<div>\n",
       "<style scoped>\n",
       "    .dataframe tbody tr th:only-of-type {\n",
       "        vertical-align: middle;\n",
       "    }\n",
       "\n",
       "    .dataframe tbody tr th {\n",
       "        vertical-align: top;\n",
       "    }\n",
       "\n",
       "    .dataframe thead th {\n",
       "        text-align: right;\n",
       "    }\n",
       "</style>\n",
       "<table border=\"1\" class=\"dataframe\">\n",
       "  <thead>\n",
       "    <tr style=\"text-align: right;\">\n",
       "      <th></th>\n",
       "      <th>hour</th>\n",
       "      <th>area</th>\n",
       "    </tr>\n",
       "  </thead>\n",
       "  <tbody>\n",
       "    <tr>\n",
       "      <th>19500</th>\n",
       "      <td>0</td>\n",
       "      <td>g2</td>\n",
       "    </tr>\n",
       "    <tr>\n",
       "      <th>10772</th>\n",
       "      <td>0</td>\n",
       "      <td>g2</td>\n",
       "    </tr>\n",
       "    <tr>\n",
       "      <th>19516</th>\n",
       "      <td>0</td>\n",
       "      <td>g2</td>\n",
       "    </tr>\n",
       "    <tr>\n",
       "      <th>20429</th>\n",
       "      <td>0</td>\n",
       "      <td>g2</td>\n",
       "    </tr>\n",
       "    <tr>\n",
       "      <th>11732</th>\n",
       "      <td>0</td>\n",
       "      <td>g2</td>\n",
       "    </tr>\n",
       "  </tbody>\n",
       "</table>\n",
       "</div>"
      ],
      "text/plain": [
       "      hour area\n",
       "19500    0   g2\n",
       "10772    0   g2\n",
       "19516    0   g2\n",
       "20429    0   g2\n",
       "11732    0   g2"
      ]
     },
     "execution_count": 82,
     "metadata": {},
     "output_type": "execute_result"
    }
   ],
   "source": [
    "g2.head()\n"
   ]
  },
  {
   "cell_type": "code",
   "execution_count": 83,
   "metadata": {},
   "outputs": [
    {
     "data": {
      "text/html": [
       "<div>\n",
       "<style scoped>\n",
       "    .dataframe tbody tr th:only-of-type {\n",
       "        vertical-align: middle;\n",
       "    }\n",
       "\n",
       "    .dataframe tbody tr th {\n",
       "        vertical-align: top;\n",
       "    }\n",
       "\n",
       "    .dataframe thead th {\n",
       "        text-align: right;\n",
       "    }\n",
       "</style>\n",
       "<table border=\"1\" class=\"dataframe\">\n",
       "  <thead>\n",
       "    <tr style=\"text-align: right;\">\n",
       "      <th></th>\n",
       "      <th>hour</th>\n",
       "      <th>area</th>\n",
       "    </tr>\n",
       "  </thead>\n",
       "  <tbody>\n",
       "    <tr>\n",
       "      <th>19500</th>\n",
       "      <td>0</td>\n",
       "      <td>g2</td>\n",
       "    </tr>\n",
       "    <tr>\n",
       "      <th>10772</th>\n",
       "      <td>0</td>\n",
       "      <td>g2</td>\n",
       "    </tr>\n",
       "    <tr>\n",
       "      <th>19516</th>\n",
       "      <td>0</td>\n",
       "      <td>g2</td>\n",
       "    </tr>\n",
       "    <tr>\n",
       "      <th>20429</th>\n",
       "      <td>0</td>\n",
       "      <td>g2</td>\n",
       "    </tr>\n",
       "    <tr>\n",
       "      <th>11732</th>\n",
       "      <td>0</td>\n",
       "      <td>g2</td>\n",
       "    </tr>\n",
       "  </tbody>\n",
       "</table>\n",
       "</div>"
      ],
      "text/plain": [
       "      hour area\n",
       "19500    0   g2\n",
       "10772    0   g2\n",
       "19516    0   g2\n",
       "20429    0   g2\n",
       "11732    0   g2"
      ]
     },
     "execution_count": 83,
     "metadata": {},
     "output_type": "execute_result"
    }
   ],
   "source": [
    "g2.head()"
   ]
  },
  {
   "cell_type": "code",
   "execution_count": 84,
   "metadata": {},
   "outputs": [
    {
     "data": {
      "text/plain": [
       "hour    object\n",
       "area    object\n",
       "dtype: object"
      ]
     },
     "execution_count": 84,
     "metadata": {},
     "output_type": "execute_result"
    }
   ],
   "source": [
    "g2.dtypes"
   ]
  },
  {
   "cell_type": "code",
   "execution_count": 85,
   "metadata": {},
   "outputs": [
    {
     "data": {
      "text/plain": [
       "pandas.core.series.Series"
      ]
     },
     "execution_count": 85,
     "metadata": {},
     "output_type": "execute_result"
    }
   ],
   "source": [
    "type(g2['hour'])"
   ]
  },
  {
   "cell_type": "code",
   "execution_count": 86,
   "metadata": {},
   "outputs": [],
   "source": [
    "g2['hour'] = g2['hour'].astype('int64')\n"
   ]
  },
  {
   "cell_type": "code",
   "execution_count": 87,
   "metadata": {},
   "outputs": [
    {
     "data": {
      "text/plain": [
       "pandas.core.series.Series"
      ]
     },
     "execution_count": 87,
     "metadata": {},
     "output_type": "execute_result"
    }
   ],
   "source": [
    "type(g2['hour'])"
   ]
  },
  {
   "cell_type": "code",
   "execution_count": 88,
   "metadata": {},
   "outputs": [],
   "source": [
    "g2h0 = g2[g2['hour']==0].count()"
   ]
  },
  {
   "cell_type": "code",
   "execution_count": 89,
   "metadata": {},
   "outputs": [
    {
     "data": {
      "text/plain": [
       "hour    5\n",
       "area    5\n",
       "dtype: int64"
      ]
     },
     "execution_count": 89,
     "metadata": {},
     "output_type": "execute_result"
    }
   ],
   "source": [
    "g2h0"
   ]
  },
  {
   "cell_type": "code",
   "execution_count": 90,
   "metadata": {},
   "outputs": [],
   "source": [
    "g2h0a = g2h0['hour']"
   ]
  },
  {
   "cell_type": "code",
   "execution_count": 91,
   "metadata": {},
   "outputs": [
    {
     "data": {
      "text/plain": [
       "5"
      ]
     },
     "execution_count": 91,
     "metadata": {},
     "output_type": "execute_result"
    }
   ],
   "source": [
    "g2h0a"
   ]
  },
  {
   "cell_type": "code",
   "execution_count": 92,
   "metadata": {},
   "outputs": [],
   "source": [
    "g5 = g5.drop(columns=['Base','date','datetime', 'Lat','Lon']) "
   ]
  },
  {
   "cell_type": "code",
   "execution_count": 93,
   "metadata": {},
   "outputs": [],
   "source": [
    "g5['hour'] = g5['hour'].astype('int64')"
   ]
  },
  {
   "cell_type": "code",
   "execution_count": 94,
   "metadata": {},
   "outputs": [],
   "source": [
    "g2h1 = g2[g2['hour']==1].count()"
   ]
  },
  {
   "cell_type": "code",
   "execution_count": 95,
   "metadata": {},
   "outputs": [],
   "source": [
    "g2h2 = g2[g2['hour']==2].count()"
   ]
  },
  {
   "cell_type": "code",
   "execution_count": 96,
   "metadata": {},
   "outputs": [],
   "source": [
    "g2h3 = g2[g2['hour']==3].count()\n",
    "g2h4 = g2[g2['hour']==4].count()\n",
    "g2h5 = g2[g2['hour']==5].count()\n",
    "g2h6 = g2[g2['hour']==6].count()\n",
    "g2h7 = g2[g2['hour']==7].count()\n",
    "g2h8 = g2[g2['hour']==8].count()\n",
    "g2h9 = g2[g2['hour']==9].count()\n",
    "g2h10 = g2[g2['hour']==10].count()\n",
    "g2h11 = g2[g2['hour']==11].count()\n",
    "g2h12 = g2[g2['hour']==12].count()\n",
    "g2h13 = g2[g2['hour']==13].count()\n",
    "g2h14 = g2[g2['hour']==14].count()\n",
    "g2h15 = g2[g2['hour']==15].count()\n",
    "g2h16 = g2[g2['hour']==16].count()\n",
    "g2h17 = g2[g2['hour']==17].count()\n",
    "g2h18 = g2[g2['hour']==18].count()\n",
    "g2h19 = g2[g2['hour']==19].count()\n",
    "g2h20 = g2[g2['hour']==20].count()\n",
    "g2h21 = g2[g2['hour']==21].count()\n",
    "g2h22 = g2[g2['hour']==22].count()\n",
    "g2h23 = g2[g2['hour']==23].count()\n",
    "g2h24 = g2[g2['hour']==24].count()"
   ]
  },
  {
   "cell_type": "code",
   "execution_count": 97,
   "metadata": {},
   "outputs": [],
   "source": [
    "g5h0 = g5[g5['hour']==3].count()\n",
    "g5h1 = g5[g5['hour']==3].count()\n",
    "g5h2 = g5[g5['hour']==3].count()\n",
    "g5h3 = g5[g5['hour']==3].count()\n",
    "g5h4 = g5[g5['hour']==4].count()\n",
    "g5h5 = g5[g5['hour']==5].count()\n",
    "g5h6 = g5[g5['hour']==6].count()\n",
    "g5h7 = g5[g5['hour']==7].count()\n",
    "g5h8 = g5[g5['hour']==8].count()\n",
    "g5h9 = g5[g5['hour']==9].count()\n",
    "g5h10 = g5[g5['hour']==10].count()\n",
    "g5h11 = g5[g5['hour']==11].count()\n",
    "g5h12 = g5[g5['hour']==12].count()\n",
    "g5h13 = g5[g5['hour']==13].count()\n",
    "g5h14 = g5[g5['hour']==14].count()\n",
    "g5h15 = g5[g5['hour']==15].count()\n",
    "g5h16 = g5[g5['hour']==16].count()\n",
    "g5h17 = g5[g5['hour']==17].count()\n",
    "g5h18 = g5[g5['hour']==18].count()\n",
    "g5h19 = g5[g5['hour']==19].count()\n",
    "g5h20 = g5[g5['hour']==20].count()\n",
    "g5h21 = g5[g5['hour']==21].count()\n",
    "g5h22 = g5[g5['hour']==22].count()\n",
    "g5h23 = g5[g5['hour']==23].count()\n",
    "g5h24 = g5[g5['hour']==24].count()\n"
   ]
  },
  {
   "cell_type": "code",
   "execution_count": 98,
   "metadata": {},
   "outputs": [],
   "source": [
    "g6 = g6.drop(columns=['Base','date','datetime', 'Lat','Lon']) "
   ]
  },
  {
   "cell_type": "code",
   "execution_count": null,
   "metadata": {},
   "outputs": [],
   "source": []
  },
  {
   "cell_type": "code",
   "execution_count": 99,
   "metadata": {},
   "outputs": [],
   "source": [
    "g6h0 = g6[g6['hour']==0].count()\n",
    "g6h1 = g6[g6['hour']==1].count()\n",
    "g6h2 = g6[g6['hour']==2].count()\n",
    "g6h3 = g6[g6['hour']==3].count()\n",
    "g6h4 = g6[g6['hour']==4].count()\n",
    "g6h5 = g6[g6['hour']==5].count()\n",
    "g6h6 = g6[g6['hour']==6].count()\n",
    "g6h7 = g6[g6['hour']==7].count()\n",
    "g6h8 = g6[g6['hour']==8].count()\n",
    "g6h9 = g6[g6['hour']==9].count()\n",
    "g6h10 = g6[g6['hour']==10].count()\n",
    "g6h11 = g6[g6['hour']==11].count()\n",
    "g6h12 = g6[g6['hour']==12].count()\n",
    "g6h13 = g6[g6['hour']==13].count()\n",
    "g6h14 = g6[g6['hour']==14].count()\n",
    "g6h15 = g6[g6['hour']==15].count()\n",
    "g6h16 = g6[g6['hour']==16].count()\n",
    "g6h17 = g6[g6['hour']==17].count()\n",
    "g6h18 = g6[g6['hour']==18].count()\n",
    "g6h19 = g6[g6['hour']==19].count()\n",
    "g6h20 = g6[g6['hour']==20].count()\n",
    "g6h21 = g6[g6['hour']==21].count()\n",
    "g6h22 = g6[g6['hour']==22].count()\n",
    "g6h23 = g6[g6['hour']==23].count()\n",
    "g6h24 = g6[g6['hour']==24].count()"
   ]
  },
  {
   "cell_type": "code",
   "execution_count": 100,
   "metadata": {},
   "outputs": [],
   "source": [
    "g9 = g9.drop(columns=['Base','date','datetime', 'Lat','Lon']) "
   ]
  },
  {
   "cell_type": "code",
   "execution_count": null,
   "metadata": {},
   "outputs": [],
   "source": []
  },
  {
   "cell_type": "code",
   "execution_count": 101,
   "metadata": {},
   "outputs": [],
   "source": [
    "g9h0 = g9[g9['hour']==0].count()\n",
    "g9h1 = g9[g9['hour']==1].count()\n",
    "g9h2 = g9[g9['hour']==2].count()\n",
    "g9h3 = g9[g9['hour']==3].count()\n",
    "g9h4 = g9[g9['hour']==4].count()\n",
    "g9h5 = g9[g9['hour']==5].count()\n",
    "g9h6 = g9[g9['hour']==6].count()\n",
    "g9h7 = g9[g9['hour']==7].count()\n",
    "g9h8 = g9[g9['hour']==8].count()\n",
    "g9h9 = g9[g9['hour']==9].count()\n",
    "g9h10 = g9[g9['hour']==10].count()\n",
    "g9h11 = g9[g9['hour']==11].count()\n",
    "g9h12 = g9[g9['hour']==12].count()\n",
    "g9h13 = g9[g9['hour']==13].count()\n",
    "g9h14 = g9[g9['hour']==14].count()\n",
    "g9h15 = g9[g9['hour']==15].count()\n",
    "g9h16 = g9[g9['hour']==16].count()\n",
    "g9h17 = g9[g9['hour']==17].count()\n",
    "g9h18 = g9[g9['hour']==18].count()\n",
    "g9h19 = g9[g9['hour']==19].count()\n",
    "g9h20 = g9[g9['hour']==20].count()\n",
    "g9h21 = g9[g9['hour']==21].count()\n",
    "g9h22 = g9[g9['hour']==22].count()\n",
    "g9h23 = g9[g9['hour']==23].count()\n",
    "g9h24 = g9[g9['hour']==24].count()\n"
   ]
  },
  {
   "cell_type": "code",
   "execution_count": 102,
   "metadata": {},
   "outputs": [],
   "source": [
    "g10 = g10.drop(columns=['Base','date','datetime', 'Lat','Lon']) "
   ]
  },
  {
   "cell_type": "code",
   "execution_count": null,
   "metadata": {},
   "outputs": [],
   "source": []
  },
  {
   "cell_type": "code",
   "execution_count": 103,
   "metadata": {},
   "outputs": [],
   "source": [
    "g10h0 = g10[g10['hour']==0].count()\n",
    "g10h1 = g10[g10['hour']==1].count()\n",
    "g10h2 = g10[g10['hour']==2].count()\n",
    "g10h3 = g10[g10['hour']==3].count()\n",
    "g10h4 = g10[g10['hour']==4].count()\n",
    "g10h5 = g10[g10['hour']==5].count()\n",
    "g10h6 = g10[g10['hour']==6].count()\n",
    "g10h7 = g10[g10['hour']==7].count()\n",
    "g10h8 = g10[g10['hour']==8].count()\n",
    "g10h9 = g10[g10['hour']==9].count()\n",
    "g10h10 = g10[g10['hour']==10].count()\n",
    "g10h11 = g10[g10['hour']==11].count()\n",
    "g10h12 = g10[g10['hour']==12].count()\n",
    "g10h13 = g10[g10['hour']==13].count()\n",
    "g10h14 = g10[g10['hour']==14].count()\n",
    "g10h15 = g10[g10['hour']==15].count()\n",
    "g10h16 = g10[g10['hour']==16].count()\n",
    "g10h17 = g10[g10['hour']==17].count()\n",
    "g10h18 = g10[g10['hour']==18].count()\n",
    "g10h19 = g10[g10['hour']==19].count()\n",
    "g10h20 = g10[g10['hour']==20].count()\n",
    "g10h21 = g10[g10['hour']==21].count()\n",
    "g10h22 = g10[g10['hour']==22].count()\n",
    "g10h23 = g10[g10['hour']==23].count()\n",
    "g10h24 = g10[g10['hour']==24].count()\n"
   ]
  },
  {
   "cell_type": "code",
   "execution_count": 104,
   "metadata": {},
   "outputs": [],
   "source": [
    "g11 = g11.drop(columns=['Base','date','datetime', 'Lat','Lon']) "
   ]
  },
  {
   "cell_type": "code",
   "execution_count": null,
   "metadata": {},
   "outputs": [],
   "source": []
  },
  {
   "cell_type": "code",
   "execution_count": 105,
   "metadata": {},
   "outputs": [],
   "source": [
    "g11h0 = g11[g11['hour']==0].count()\n",
    "g11h1 = g11[g11['hour']==1].count()\n",
    "g11h2 = g11[g11['hour']==2].count()\n",
    "g11h3 = g11[g11['hour']==3].count()\n",
    "g11h4 = g11[g11['hour']==4].count()\n",
    "g11h5 = g11[g11['hour']==5].count()\n",
    "g11h6 = g11[g11['hour']==6].count()\n",
    "g11h7 = g11[g11['hour']==7].count()\n",
    "g11h8 = g11[g11['hour']==8].count()\n",
    "g11h9 = g11[g11['hour']==9].count()\n",
    "g11h10 = g11[g11['hour']==10].count()\n",
    "g11h11 = g11[g11['hour']==11].count()\n",
    "g11h12 = g11[g11['hour']==12].count()\n",
    "g11h13 = g11[g11['hour']==13].count()\n",
    "g11h14 = g11[g11['hour']==14].count()\n",
    "g11h15 = g11[g11['hour']==15].count()\n",
    "g11h16 = g11[g11['hour']==16].count()\n",
    "g11h17 = g11[g11['hour']==17].count()\n",
    "g11h18 = g11[g11['hour']==18].count()\n",
    "g11h19 = g11[g11['hour']==19].count()\n",
    "g11h20 = g11[g11['hour']==20].count()\n",
    "g11h21 = g11[g11['hour']==21].count()\n",
    "g11h22 = g11[g11['hour']==22].count()\n",
    "g11h23 = g11[g11['hour']==23].count()\n",
    "g11h24 = g11[g11['hour']==24].count()\n"
   ]
  },
  {
   "cell_type": "code",
   "execution_count": 106,
   "metadata": {},
   "outputs": [],
   "source": [
    "g12 = g12.drop(columns=['Base','date','datetime', 'Lat','Lon']) "
   ]
  },
  {
   "cell_type": "code",
   "execution_count": null,
   "metadata": {},
   "outputs": [],
   "source": []
  },
  {
   "cell_type": "code",
   "execution_count": 107,
   "metadata": {},
   "outputs": [],
   "source": [
    "g12h0 = g12[g12['hour']==0].count()\n",
    "g12h1 = g12[g12['hour']==1].count()\n",
    "g12h2 = g12[g12['hour']==2].count()\n",
    "g12h3 = g12[g12['hour']==3].count()\n",
    "g12h4 = g12[g12['hour']==4].count()\n",
    "g12h5 = g12[g12['hour']==5].count()\n",
    "g12h6 = g12[g12['hour']==6].count()\n",
    "g12h7 = g12[g12['hour']==7].count()\n",
    "g12h8 = g12[g12['hour']==8].count()\n",
    "g12h9 = g12[g12['hour']==9].count()\n",
    "g12h10 = g12[g12['hour']==10].count()\n",
    "g12h11 = g12[g12['hour']==11].count()\n",
    "g12h12 = g12[g12['hour']==12].count()\n",
    "g12h13 = g12[g12['hour']==13].count()\n",
    "g12h14 = g12[g12['hour']==14].count()\n",
    "g12h15 = g12[g12['hour']==15].count()\n",
    "g12h16 = g12[g12['hour']==16].count()\n",
    "g12h17 = g12[g12['hour']==17].count()\n",
    "g12h18 = g12[g12['hour']==18].count()\n",
    "g12h19 = g12[g12['hour']==19].count()\n",
    "g12h20 = g12[g12['hour']==20].count()\n",
    "g12h21 = g12[g12['hour']==21].count()\n",
    "g12h22 = g12[g12['hour']==22].count()\n",
    "g12h23 = g12[g12['hour']==23].count()\n",
    "g12h24 = g12[g12['hour']==24].count()\n"
   ]
  },
  {
   "cell_type": "code",
   "execution_count": 108,
   "metadata": {},
   "outputs": [],
   "source": [
    "g13 = g13.drop(columns=['Base','date','datetime', 'Lat','Lon']) "
   ]
  },
  {
   "cell_type": "code",
   "execution_count": null,
   "metadata": {},
   "outputs": [],
   "source": []
  },
  {
   "cell_type": "code",
   "execution_count": 109,
   "metadata": {},
   "outputs": [],
   "source": [
    "g13h0 = g13[g13['hour']==0].count()\n",
    "g13h1 = g13[g13['hour']==1].count()\n",
    "g13h2 = g13[g13['hour']==2].count()\n",
    "g13h3 = g13[g13['hour']==3].count()\n",
    "g13h4 = g13[g13['hour']==4].count()\n",
    "g13h5 = g13[g13['hour']==5].count()\n",
    "g13h6 = g13[g13['hour']==6].count()\n",
    "g13h7 = g13[g13['hour']==7].count()\n",
    "g13h8 = g13[g13['hour']==8].count()\n",
    "g13h9 = g13[g13['hour']==9].count()\n",
    "g13h10 = g13[g13['hour']==10].count()\n",
    "g13h11 = g13[g13['hour']==11].count()\n",
    "g13h12 = g13[g13['hour']==12].count()\n",
    "g13h13 = g13[g13['hour']==13].count()\n",
    "g13h14 = g13[g13['hour']==14].count()\n",
    "g13h15 = g13[g13['hour']==15].count()\n",
    "g13h16 = g13[g13['hour']==16].count()\n",
    "g13h17 = g13[g13['hour']==17].count()\n",
    "g13h18 = g13[g13['hour']==18].count()\n",
    "g13h19 = g13[g13['hour']==19].count()\n",
    "g13h20 = g13[g13['hour']==20].count()\n",
    "g13h21 = g13[g13['hour']==21].count()\n",
    "g13h22 = g13[g13['hour']==22].count()\n",
    "g13h23 = g13[g13['hour']==23].count()\n",
    "g13h24 = g13[g13['hour']==24].count()\n"
   ]
  },
  {
   "cell_type": "code",
   "execution_count": 110,
   "metadata": {},
   "outputs": [],
   "source": [
    "g14 = g14.drop(columns=['Base','date','datetime', 'Lat','Lon']) "
   ]
  },
  {
   "cell_type": "code",
   "execution_count": null,
   "metadata": {},
   "outputs": [],
   "source": []
  },
  {
   "cell_type": "code",
   "execution_count": 111,
   "metadata": {},
   "outputs": [],
   "source": [
    "g14h0 = g14[g14['hour']==0].count()\n",
    "g14h1 = g14[g14['hour']==1].count()\n",
    "g14h2 = g14[g14['hour']==2].count()\n",
    "g14h3 = g14[g14['hour']==3].count()\n",
    "g14h4 = g14[g14['hour']==4].count()\n",
    "g14h5 = g14[g14['hour']==5].count()\n",
    "g14h6 = g14[g14['hour']==6].count()\n",
    "g14h7 = g14[g14['hour']==7].count()\n",
    "g14h8 = g14[g14['hour']==8].count()\n",
    "g14h9 = g14[g14['hour']==9].count()\n",
    "g14h10 = g14[g14['hour']==10].count()\n",
    "g14h11 = g14[g14['hour']==11].count()\n",
    "g14h12 = g14[g14['hour']==12].count()\n",
    "g14h13 = g14[g14['hour']==13].count()\n",
    "g14h14 = g14[g14['hour']==14].count()\n",
    "g14h15 = g14[g14['hour']==15].count()\n",
    "g14h16 = g14[g14['hour']==16].count()\n",
    "g14h17 = g14[g14['hour']==17].count()\n",
    "g14h18 = g14[g14['hour']==18].count()\n",
    "g14h19 = g14[g14['hour']==19].count()\n",
    "g14h20 = g14[g14['hour']==20].count()\n",
    "g14h21 = g14[g14['hour']==21].count()\n",
    "g14h22 = g14[g14['hour']==22].count()\n",
    "g14h23 = g14[g14['hour']==23].count()\n",
    "g14h24 = g14[g14['hour']==24].count()\n"
   ]
  },
  {
   "cell_type": "code",
   "execution_count": 112,
   "metadata": {},
   "outputs": [
    {
     "ename": "NameError",
     "evalue": "name 'g14h30' is not defined",
     "output_type": "error",
     "traceback": [
      "\u001b[1;31m---------------------------------------------------------------------------\u001b[0m",
      "\u001b[1;31mNameError\u001b[0m                                 Traceback (most recent call last)",
      "\u001b[1;32m<ipython-input-112-ef79bfb65be8>\u001b[0m in \u001b[0;36m<module>\u001b[1;34m\u001b[0m\n\u001b[1;32m----> 1\u001b[1;33m \u001b[0mg14h30\u001b[0m\u001b[1;33m\u001b[0m\u001b[1;33m\u001b[0m\u001b[0m\n\u001b[0m",
      "\u001b[1;31mNameError\u001b[0m: name 'g14h30' is not defined"
     ]
    }
   ],
   "source": [
    "g14h30\n"
   ]
  },
  {
   "cell_type": "code",
   "execution_count": 113,
   "metadata": {},
   "outputs": [],
   "source": [
    "g2h1a = g2h1['hour']\n",
    "g2h2a = g2h2['hour']\n",
    "g2h3a = g2h3['hour']\n",
    "g2h4a = g2h4['hour']\n",
    "g2h5a = g2h5['hour']\n",
    "g2h6a = g2h6['hour']\n",
    "g2h7a = g2h7['hour']\n",
    "g2h8a = g2h8['hour']\n",
    "g2h9a = g2h9['hour']\n",
    "g2h10a = g2h10['hour']\n",
    "g2h11a = g2h11['hour']\n",
    "g2h12a = g2h12['hour']\n",
    "g2h13a = g2h13['hour']\n",
    "g2h14a = g2h14['hour']\n",
    "g2h15a = g2h15['hour']\n",
    "g2h16a = g2h16['hour']\n",
    "g2h17a = g2h17['hour']\n",
    "g2h18a = g2h18['hour']\n",
    "g2h19a = g2h19['hour']\n",
    "g2h20a = g2h20['hour']\n",
    "g2h21a = g2h21['hour']\n",
    "g2h22a = g2h22['hour']\n",
    "g2h23a = g2h23['hour']\n",
    "g2h24a = g2h24['hour']\n"
   ]
  },
  {
   "cell_type": "code",
   "execution_count": 114,
   "metadata": {},
   "outputs": [],
   "source": [
    "g5h0a = g5h0['hour']\n",
    "g5h1a = g5h1['hour']\n",
    "g5h2a = g5h2['hour']\n",
    "g5h3a = g5h3['hour']\n",
    "g5h4a = g5h4['hour']\n",
    "g5h5a = g5h5['hour']\n",
    "g5h6a = g5h6['hour']\n",
    "g5h7a = g5h7['hour']\n",
    "g5h8a = g5h8['hour']\n",
    "g5h9a = g5h9['hour']\n",
    "g5h10a = g5h10['hour']\n",
    "g5h11a = g5h11['hour']\n",
    "g5h12a = g5h12['hour']\n",
    "g5h13a = g5h13['hour']\n",
    "g5h14a = g5h14['hour']\n",
    "g5h15a = g5h15['hour']\n",
    "g5h16a = g5h16['hour']\n",
    "g5h17a = g5h17['hour']\n",
    "g5h18a = g5h18['hour']\n",
    "g5h19a = g5h19['hour']\n",
    "g5h20a = g5h20['hour']\n",
    "g5h21a = g5h21['hour']\n",
    "g5h22a = g5h22['hour']\n",
    "g5h23a = g5h23['hour']\n",
    "g5h24a = g5h24['hour']"
   ]
  },
  {
   "cell_type": "code",
   "execution_count": 115,
   "metadata": {},
   "outputs": [],
   "source": [
    "g6h0a = g6h0['hour']\n",
    "g6h1a = g6h1['hour']\n",
    "g6h2a = g6h2['hour']\n",
    "g6h3a = g6h3['hour']\n",
    "g6h4a = g6h4['hour']\n",
    "g6h5a = g6h5['hour']\n",
    "g6h6a = g6h6['hour']\n",
    "g6h7a = g6h7['hour']\n",
    "g6h8a = g6h8['hour']\n",
    "g6h9a = g6h9['hour']\n",
    "g6h10a = g6h10['hour']\n",
    "g6h11a = g6h11['hour']\n",
    "g6h12a = g6h12['hour']\n",
    "g6h13a = g6h13['hour']\n",
    "g6h14a = g6h14['hour']\n",
    "g6h15a = g6h15['hour']\n",
    "g6h16a = g6h16['hour']\n",
    "g6h17a = g6h17['hour']\n",
    "g6h18a = g6h18['hour']\n",
    "g6h19a = g6h19['hour']\n",
    "g6h20a = g6h20['hour']\n",
    "g6h21a = g6h21['hour']\n",
    "g6h22a = g6h22['hour']\n",
    "g6h23a = g6h23['hour']\n",
    "g6h24a = g6h24['hour']\n"
   ]
  },
  {
   "cell_type": "code",
   "execution_count": 116,
   "metadata": {},
   "outputs": [],
   "source": [
    "g9h0a = g9h0['hour']\n",
    "g9h1a = g9h1['hour']\n",
    "g9h2a = g9h2['hour']\n",
    "g9h3a = g9h3['hour']\n",
    "g9h4a = g9h4['hour']\n",
    "g9h5a = g9h5['hour']\n",
    "g9h6a = g9h6['hour']\n",
    "g9h7a = g9h7['hour']\n",
    "g9h8a = g9h8['hour']\n",
    "g9h9a = g9h9['hour']\n",
    "g9h10a = g9h10['hour']\n",
    "g9h11a = g9h11['hour']\n",
    "g9h12a = g9h12['hour']\n",
    "g9h13a = g9h13['hour']\n",
    "g9h14a = g9h14['hour']\n",
    "g9h15a = g9h15['hour']\n",
    "g9h16a = g9h16['hour']\n",
    "g9h17a = g9h17['hour']\n",
    "g9h18a = g9h18['hour']\n",
    "g9h19a = g9h19['hour']\n",
    "g9h20a = g9h20['hour']\n",
    "g9h21a = g9h21['hour']\n",
    "g9h22a = g9h22['hour']\n",
    "g9h23a = g9h23['hour']\n",
    "g9h24a = g9h24['hour']"
   ]
  },
  {
   "cell_type": "code",
   "execution_count": 117,
   "metadata": {},
   "outputs": [],
   "source": [
    "g10h0a = g10h0['hour']\n",
    "g10h1a = g10h1['hour']\n",
    "g10h2a = g10h2['hour']\n",
    "g10h3a = g10h3['hour']\n",
    "g10h4a = g10h4['hour']\n",
    "g10h5a = g10h5['hour']\n",
    "g10h6a = g10h6['hour']\n",
    "g10h7a = g10h7['hour']\n",
    "g10h8a = g10h8['hour']\n",
    "g10h9a = g10h9['hour']\n",
    "g10h10a = g10h10['hour']\n",
    "g10h11a = g10h11['hour']\n",
    "g10h12a = g10h12['hour']\n",
    "g10h13a = g10h13['hour']\n",
    "g10h14a = g10h14['hour']\n",
    "g10h15a = g10h15['hour']\n",
    "g10h16a = g10h16['hour']\n",
    "g10h17a = g10h17['hour']\n",
    "g10h18a = g10h18['hour']\n",
    "g10h19a = g10h19['hour']\n",
    "g10h20a = g10h20['hour']\n",
    "g10h21a = g10h21['hour']\n",
    "g10h22a = g10h22['hour']\n",
    "g10h23a = g10h23['hour']\n",
    "g10h24a = g10h24['hour']"
   ]
  },
  {
   "cell_type": "code",
   "execution_count": 118,
   "metadata": {},
   "outputs": [],
   "source": [
    "g11h0a = g11h0['hour']\n",
    "g11h1a = g11h1['hour']\n",
    "g11h2a = g11h2['hour']\n",
    "g11h3a = g11h3['hour']\n",
    "g11h4a = g11h4['hour']\n",
    "g11h5a = g11h5['hour']\n",
    "g11h6a = g11h6['hour']\n",
    "g11h7a = g11h7['hour']\n",
    "g11h8a = g11h8['hour']\n",
    "g11h9a = g11h9['hour']\n",
    "g11h10a = g11h10['hour']\n",
    "g11h11a = g11h11['hour']\n",
    "g11h12a = g11h12['hour']\n",
    "g11h13a = g11h13['hour']\n",
    "g11h14a = g11h14['hour']\n",
    "g11h15a = g11h15['hour']\n",
    "g11h16a = g11h16['hour']\n",
    "g11h17a = g11h17['hour']\n",
    "g11h18a = g11h18['hour']\n",
    "g11h19a = g11h19['hour']\n",
    "g11h20a = g11h20['hour']\n",
    "g11h21a = g11h21['hour']\n",
    "g11h22a = g11h22['hour']\n",
    "g11h23a = g11h23['hour']\n",
    "g11h24a = g11h24['hour']"
   ]
  },
  {
   "cell_type": "code",
   "execution_count": 119,
   "metadata": {},
   "outputs": [],
   "source": [
    "g12h0a = g12h0['hour']\n",
    "g12h1a = g12h1['hour']\n",
    "g12h2a = g12h2['hour']\n",
    "g12h3a = g12h3['hour']\n",
    "g12h4a = g12h4['hour']\n",
    "g12h5a = g12h5['hour']\n",
    "g12h6a = g12h6['hour']\n",
    "g12h7a = g12h7['hour']\n",
    "g12h8a = g12h8['hour']\n",
    "g12h9a = g12h9['hour']\n",
    "g12h10a = g12h10['hour']\n",
    "g12h11a = g12h11['hour']\n",
    "g12h12a = g12h12['hour']\n",
    "g12h13a = g12h13['hour']\n",
    "g12h14a = g12h14['hour']\n",
    "g12h15a = g12h15['hour']\n",
    "g12h16a = g12h16['hour']\n",
    "g12h17a = g12h17['hour']\n",
    "g12h18a = g12h18['hour']\n",
    "g12h19a = g12h19['hour']\n",
    "g12h20a = g12h20['hour']\n",
    "g12h21a = g12h21['hour']\n",
    "g12h22a = g12h22['hour']\n",
    "g12h23a = g12h23['hour']\n",
    "g12h24a = g12h24['hour']"
   ]
  },
  {
   "cell_type": "code",
   "execution_count": 120,
   "metadata": {},
   "outputs": [],
   "source": [
    "g13h0a = g13h0['hour']\n",
    "g13h1a = g13h1['hour']\n",
    "g13h2a = g13h2['hour']\n",
    "g13h3a = g13h3['hour']\n",
    "g13h4a = g13h4['hour']\n",
    "g13h5a = g13h5['hour']\n",
    "g13h6a = g13h6['hour']\n",
    "g13h7a = g13h7['hour']\n",
    "g13h8a = g13h8['hour']\n",
    "g13h9a = g13h9['hour']\n",
    "g13h10a = g13h10['hour']\n",
    "g13h11a = g13h11['hour']\n",
    "g13h12a = g13h12['hour']\n",
    "g13h13a = g13h13['hour']\n",
    "g13h14a = g13h14['hour']\n",
    "g13h15a = g13h15['hour']\n",
    "g13h16a = g13h16['hour']\n",
    "g13h17a = g13h17['hour']\n",
    "g13h18a = g13h18['hour']\n",
    "g13h19a = g13h19['hour']\n",
    "g13h20a = g13h20['hour']\n",
    "g13h21a = g13h21['hour']\n",
    "g13h22a = g13h22['hour']\n",
    "g13h23a = g13h23['hour']\n",
    "g13h24a = g13h24['hour']"
   ]
  },
  {
   "cell_type": "code",
   "execution_count": 121,
   "metadata": {},
   "outputs": [],
   "source": [
    "g14h0a = g14h0['hour']\n",
    "g14h1a = g14h1['hour']\n",
    "g14h2a = g14h2['hour']\n",
    "g14h3a = g14h3['hour']\n",
    "g14h4a = g14h4['hour']\n",
    "g14h5a = g14h5['hour']\n",
    "g14h6a = g14h6['hour']\n",
    "g14h7a = g14h7['hour']\n",
    "g14h8a = g14h8['hour']\n",
    "g14h9a = g14h9['hour']\n",
    "g14h10a = g14h10['hour']\n",
    "g14h11a = g14h11['hour']\n",
    "g14h12a = g14h12['hour']\n",
    "g14h13a = g14h13['hour']\n",
    "g14h14a = g14h14['hour']\n",
    "g14h15a = g14h15['hour']\n",
    "g14h16a = g14h16['hour']\n",
    "g14h17a = g14h17['hour']\n",
    "g14h18a = g14h18['hour']\n",
    "g14h19a = g14h19['hour']\n",
    "g14h20a = g14h20['hour']\n",
    "g14h21a = g14h21['hour']\n",
    "g14h22a = g14h22['hour']\n",
    "g14h23a = g14h23['hour']\n",
    "g14h24a = g14h24['hour']"
   ]
  },
  {
   "cell_type": "code",
   "execution_count": 122,
   "metadata": {},
   "outputs": [],
   "source": [
    "finaldata = [g2h0a,g2h1a,g2h2a,g2h3a,g2h4a,g2h5a,g2h6a,g2h7a,g2h8a,g2h9a,g2h10a,g2h11a,g2h12a,g2h13a,g2h14a,g2h15a,g2h16a,g2h17a,g2h18a,g2h19a,g2h20a,g2h21a,g2h22a,g2h23a,g2h24a]"
   ]
  },
  {
   "cell_type": "code",
   "execution_count": 123,
   "metadata": {},
   "outputs": [],
   "source": [
    "newdata = pd.DataFrame(data=finaldata)"
   ]
  },
  {
   "cell_type": "code",
   "execution_count": 124,
   "metadata": {},
   "outputs": [
    {
     "data": {
      "text/html": [
       "<div>\n",
       "<style scoped>\n",
       "    .dataframe tbody tr th:only-of-type {\n",
       "        vertical-align: middle;\n",
       "    }\n",
       "\n",
       "    .dataframe tbody tr th {\n",
       "        vertical-align: top;\n",
       "    }\n",
       "\n",
       "    .dataframe thead th {\n",
       "        text-align: right;\n",
       "    }\n",
       "</style>\n",
       "<table border=\"1\" class=\"dataframe\">\n",
       "  <thead>\n",
       "    <tr style=\"text-align: right;\">\n",
       "      <th></th>\n",
       "      <th>0</th>\n",
       "    </tr>\n",
       "  </thead>\n",
       "  <tbody>\n",
       "    <tr>\n",
       "      <th>0</th>\n",
       "      <td>5</td>\n",
       "    </tr>\n",
       "    <tr>\n",
       "      <th>1</th>\n",
       "      <td>2</td>\n",
       "    </tr>\n",
       "    <tr>\n",
       "      <th>2</th>\n",
       "      <td>0</td>\n",
       "    </tr>\n",
       "    <tr>\n",
       "      <th>3</th>\n",
       "      <td>0</td>\n",
       "    </tr>\n",
       "    <tr>\n",
       "      <th>4</th>\n",
       "      <td>0</td>\n",
       "    </tr>\n",
       "    <tr>\n",
       "      <th>5</th>\n",
       "      <td>0</td>\n",
       "    </tr>\n",
       "    <tr>\n",
       "      <th>6</th>\n",
       "      <td>0</td>\n",
       "    </tr>\n",
       "    <tr>\n",
       "      <th>7</th>\n",
       "      <td>0</td>\n",
       "    </tr>\n",
       "    <tr>\n",
       "      <th>8</th>\n",
       "      <td>0</td>\n",
       "    </tr>\n",
       "    <tr>\n",
       "      <th>9</th>\n",
       "      <td>0</td>\n",
       "    </tr>\n",
       "    <tr>\n",
       "      <th>10</th>\n",
       "      <td>0</td>\n",
       "    </tr>\n",
       "    <tr>\n",
       "      <th>11</th>\n",
       "      <td>0</td>\n",
       "    </tr>\n",
       "    <tr>\n",
       "      <th>12</th>\n",
       "      <td>0</td>\n",
       "    </tr>\n",
       "    <tr>\n",
       "      <th>13</th>\n",
       "      <td>0</td>\n",
       "    </tr>\n",
       "    <tr>\n",
       "      <th>14</th>\n",
       "      <td>1</td>\n",
       "    </tr>\n",
       "    <tr>\n",
       "      <th>15</th>\n",
       "      <td>0</td>\n",
       "    </tr>\n",
       "    <tr>\n",
       "      <th>16</th>\n",
       "      <td>0</td>\n",
       "    </tr>\n",
       "    <tr>\n",
       "      <th>17</th>\n",
       "      <td>0</td>\n",
       "    </tr>\n",
       "    <tr>\n",
       "      <th>18</th>\n",
       "      <td>0</td>\n",
       "    </tr>\n",
       "    <tr>\n",
       "      <th>19</th>\n",
       "      <td>3</td>\n",
       "    </tr>\n",
       "    <tr>\n",
       "      <th>20</th>\n",
       "      <td>3</td>\n",
       "    </tr>\n",
       "    <tr>\n",
       "      <th>21</th>\n",
       "      <td>6</td>\n",
       "    </tr>\n",
       "    <tr>\n",
       "      <th>22</th>\n",
       "      <td>5</td>\n",
       "    </tr>\n",
       "    <tr>\n",
       "      <th>23</th>\n",
       "      <td>3</td>\n",
       "    </tr>\n",
       "    <tr>\n",
       "      <th>24</th>\n",
       "      <td>0</td>\n",
       "    </tr>\n",
       "  </tbody>\n",
       "</table>\n",
       "</div>"
      ],
      "text/plain": [
       "    0\n",
       "0   5\n",
       "1   2\n",
       "2   0\n",
       "3   0\n",
       "4   0\n",
       "5   0\n",
       "6   0\n",
       "7   0\n",
       "8   0\n",
       "9   0\n",
       "10  0\n",
       "11  0\n",
       "12  0\n",
       "13  0\n",
       "14  1\n",
       "15  0\n",
       "16  0\n",
       "17  0\n",
       "18  0\n",
       "19  3\n",
       "20  3\n",
       "21  6\n",
       "22  5\n",
       "23  3\n",
       "24  0"
      ]
     },
     "execution_count": 124,
     "metadata": {},
     "output_type": "execute_result"
    }
   ],
   "source": [
    "newdata\n"
   ]
  },
  {
   "cell_type": "code",
   "execution_count": 125,
   "metadata": {},
   "outputs": [],
   "source": [
    "newdata[\"area\"] = 2"
   ]
  },
  {
   "cell_type": "code",
   "execution_count": 126,
   "metadata": {},
   "outputs": [
    {
     "data": {
      "text/html": [
       "<div>\n",
       "<style scoped>\n",
       "    .dataframe tbody tr th:only-of-type {\n",
       "        vertical-align: middle;\n",
       "    }\n",
       "\n",
       "    .dataframe tbody tr th {\n",
       "        vertical-align: top;\n",
       "    }\n",
       "\n",
       "    .dataframe thead th {\n",
       "        text-align: right;\n",
       "    }\n",
       "</style>\n",
       "<table border=\"1\" class=\"dataframe\">\n",
       "  <thead>\n",
       "    <tr style=\"text-align: right;\">\n",
       "      <th></th>\n",
       "      <th>0</th>\n",
       "      <th>area</th>\n",
       "    </tr>\n",
       "  </thead>\n",
       "  <tbody>\n",
       "    <tr>\n",
       "      <th>0</th>\n",
       "      <td>5</td>\n",
       "      <td>2</td>\n",
       "    </tr>\n",
       "    <tr>\n",
       "      <th>1</th>\n",
       "      <td>2</td>\n",
       "      <td>2</td>\n",
       "    </tr>\n",
       "    <tr>\n",
       "      <th>2</th>\n",
       "      <td>0</td>\n",
       "      <td>2</td>\n",
       "    </tr>\n",
       "    <tr>\n",
       "      <th>3</th>\n",
       "      <td>0</td>\n",
       "      <td>2</td>\n",
       "    </tr>\n",
       "    <tr>\n",
       "      <th>4</th>\n",
       "      <td>0</td>\n",
       "      <td>2</td>\n",
       "    </tr>\n",
       "  </tbody>\n",
       "</table>\n",
       "</div>"
      ],
      "text/plain": [
       "   0  area\n",
       "0  5     2\n",
       "1  2     2\n",
       "2  0     2\n",
       "3  0     2\n",
       "4  0     2"
      ]
     },
     "execution_count": 126,
     "metadata": {},
     "output_type": "execute_result"
    }
   ],
   "source": [
    "newdata.head()\n"
   ]
  },
  {
   "cell_type": "code",
   "execution_count": 127,
   "metadata": {},
   "outputs": [],
   "source": [
    "newdata[\"hour\"]=[0,1,2,3,4,5,6,7,8,9,10,11,12,13,14,15,16,17,18,19,20,21,22,23,24]"
   ]
  },
  {
   "cell_type": "code",
   "execution_count": 128,
   "metadata": {},
   "outputs": [
    {
     "data": {
      "text/html": [
       "<div>\n",
       "<style scoped>\n",
       "    .dataframe tbody tr th:only-of-type {\n",
       "        vertical-align: middle;\n",
       "    }\n",
       "\n",
       "    .dataframe tbody tr th {\n",
       "        vertical-align: top;\n",
       "    }\n",
       "\n",
       "    .dataframe thead th {\n",
       "        text-align: right;\n",
       "    }\n",
       "</style>\n",
       "<table border=\"1\" class=\"dataframe\">\n",
       "  <thead>\n",
       "    <tr style=\"text-align: right;\">\n",
       "      <th></th>\n",
       "      <th>0</th>\n",
       "      <th>area</th>\n",
       "      <th>hour</th>\n",
       "    </tr>\n",
       "  </thead>\n",
       "  <tbody>\n",
       "    <tr>\n",
       "      <th>0</th>\n",
       "      <td>5</td>\n",
       "      <td>2</td>\n",
       "      <td>0</td>\n",
       "    </tr>\n",
       "    <tr>\n",
       "      <th>1</th>\n",
       "      <td>2</td>\n",
       "      <td>2</td>\n",
       "      <td>1</td>\n",
       "    </tr>\n",
       "    <tr>\n",
       "      <th>2</th>\n",
       "      <td>0</td>\n",
       "      <td>2</td>\n",
       "      <td>2</td>\n",
       "    </tr>\n",
       "    <tr>\n",
       "      <th>3</th>\n",
       "      <td>0</td>\n",
       "      <td>2</td>\n",
       "      <td>3</td>\n",
       "    </tr>\n",
       "    <tr>\n",
       "      <th>4</th>\n",
       "      <td>0</td>\n",
       "      <td>2</td>\n",
       "      <td>4</td>\n",
       "    </tr>\n",
       "  </tbody>\n",
       "</table>\n",
       "</div>"
      ],
      "text/plain": [
       "   0  area  hour\n",
       "0  5     2     0\n",
       "1  2     2     1\n",
       "2  0     2     2\n",
       "3  0     2     3\n",
       "4  0     2     4"
      ]
     },
     "execution_count": 128,
     "metadata": {},
     "output_type": "execute_result"
    }
   ],
   "source": [
    "newdata.head()"
   ]
  },
  {
   "cell_type": "code",
   "execution_count": 129,
   "metadata": {},
   "outputs": [],
   "source": [
    "fdata5  = [g5h0a,g5h1a,g5h2a,g5h3a,g5h4a,g5h5a,g5h6a,g5h7a,g5h8a,g5h9a,g5h10a,g5h11a,g5h12a,g5h13a,g5h14a,g5h15a,g5h16a,g5h17a,g5h18a,g5h19a,g5h20a,g5h21a,g5h22a,g5h23a,g5h24a]"
   ]
  },
  {
   "cell_type": "code",
   "execution_count": 130,
   "metadata": {},
   "outputs": [],
   "source": [
    "newdata5 = pd.DataFrame(data=fdata5)"
   ]
  },
  {
   "cell_type": "code",
   "execution_count": 131,
   "metadata": {},
   "outputs": [],
   "source": [
    "newdata5[\"area\"] = 5\n",
    "newdata5[\"hour\"]=[0,1,2,3,4,5,6,7,8,9,10,11,12,13,14,15,16,17,18,19,20,21,22,23,24]"
   ]
  },
  {
   "cell_type": "code",
   "execution_count": 132,
   "metadata": {},
   "outputs": [
    {
     "data": {
      "text/html": [
       "<div>\n",
       "<style scoped>\n",
       "    .dataframe tbody tr th:only-of-type {\n",
       "        vertical-align: middle;\n",
       "    }\n",
       "\n",
       "    .dataframe tbody tr th {\n",
       "        vertical-align: top;\n",
       "    }\n",
       "\n",
       "    .dataframe thead th {\n",
       "        text-align: right;\n",
       "    }\n",
       "</style>\n",
       "<table border=\"1\" class=\"dataframe\">\n",
       "  <thead>\n",
       "    <tr style=\"text-align: right;\">\n",
       "      <th></th>\n",
       "      <th>0</th>\n",
       "      <th>area</th>\n",
       "      <th>hour</th>\n",
       "    </tr>\n",
       "  </thead>\n",
       "  <tbody>\n",
       "    <tr>\n",
       "      <th>0</th>\n",
       "      <td>0</td>\n",
       "      <td>5</td>\n",
       "      <td>0</td>\n",
       "    </tr>\n",
       "    <tr>\n",
       "      <th>1</th>\n",
       "      <td>0</td>\n",
       "      <td>5</td>\n",
       "      <td>1</td>\n",
       "    </tr>\n",
       "    <tr>\n",
       "      <th>2</th>\n",
       "      <td>0</td>\n",
       "      <td>5</td>\n",
       "      <td>2</td>\n",
       "    </tr>\n",
       "    <tr>\n",
       "      <th>3</th>\n",
       "      <td>0</td>\n",
       "      <td>5</td>\n",
       "      <td>3</td>\n",
       "    </tr>\n",
       "    <tr>\n",
       "      <th>4</th>\n",
       "      <td>3</td>\n",
       "      <td>5</td>\n",
       "      <td>4</td>\n",
       "    </tr>\n",
       "  </tbody>\n",
       "</table>\n",
       "</div>"
      ],
      "text/plain": [
       "   0  area  hour\n",
       "0  0     5     0\n",
       "1  0     5     1\n",
       "2  0     5     2\n",
       "3  0     5     3\n",
       "4  3     5     4"
      ]
     },
     "execution_count": 132,
     "metadata": {},
     "output_type": "execute_result"
    }
   ],
   "source": [
    "newdata5.head()"
   ]
  },
  {
   "cell_type": "code",
   "execution_count": 133,
   "metadata": {},
   "outputs": [],
   "source": [
    "fdata6  = [g6h0a,g6h1a,g6h2a,g6h3a,g6h4a,g6h5a,g6h6a,g6h7a,g6h8a,g6h9a,g6h10a,g6h11a,g6h12a,g6h13a,g6h14a,g6h15a,g6h16a,g6h17a,g6h18a,g6h19a,g6h20a,g6h21a,g6h22a,g6h23a,g6h24a]"
   ]
  },
  {
   "cell_type": "code",
   "execution_count": 134,
   "metadata": {},
   "outputs": [],
   "source": [
    "newdata6 = pd.DataFrame(data=fdata6)"
   ]
  },
  {
   "cell_type": "code",
   "execution_count": 135,
   "metadata": {},
   "outputs": [],
   "source": [
    "newdata6[\"area\"] = 6\n",
    "newdata6[\"hour\"]=[0,1,2,3,4,5,6,7,8,9,10,11,12,13,14,15,16,17,18,19,20,21,22,23,24]"
   ]
  },
  {
   "cell_type": "code",
   "execution_count": 136,
   "metadata": {},
   "outputs": [
    {
     "data": {
      "text/html": [
       "<div>\n",
       "<style scoped>\n",
       "    .dataframe tbody tr th:only-of-type {\n",
       "        vertical-align: middle;\n",
       "    }\n",
       "\n",
       "    .dataframe tbody tr th {\n",
       "        vertical-align: top;\n",
       "    }\n",
       "\n",
       "    .dataframe thead th {\n",
       "        text-align: right;\n",
       "    }\n",
       "</style>\n",
       "<table border=\"1\" class=\"dataframe\">\n",
       "  <thead>\n",
       "    <tr style=\"text-align: right;\">\n",
       "      <th></th>\n",
       "      <th>0</th>\n",
       "      <th>area</th>\n",
       "      <th>hour</th>\n",
       "    </tr>\n",
       "  </thead>\n",
       "  <tbody>\n",
       "    <tr>\n",
       "      <th>0</th>\n",
       "      <td>0</td>\n",
       "      <td>5</td>\n",
       "      <td>0</td>\n",
       "    </tr>\n",
       "    <tr>\n",
       "      <th>1</th>\n",
       "      <td>0</td>\n",
       "      <td>5</td>\n",
       "      <td>1</td>\n",
       "    </tr>\n",
       "    <tr>\n",
       "      <th>2</th>\n",
       "      <td>0</td>\n",
       "      <td>5</td>\n",
       "      <td>2</td>\n",
       "    </tr>\n",
       "    <tr>\n",
       "      <th>3</th>\n",
       "      <td>0</td>\n",
       "      <td>5</td>\n",
       "      <td>3</td>\n",
       "    </tr>\n",
       "    <tr>\n",
       "      <th>4</th>\n",
       "      <td>3</td>\n",
       "      <td>5</td>\n",
       "      <td>4</td>\n",
       "    </tr>\n",
       "  </tbody>\n",
       "</table>\n",
       "</div>"
      ],
      "text/plain": [
       "   0  area  hour\n",
       "0  0     5     0\n",
       "1  0     5     1\n",
       "2  0     5     2\n",
       "3  0     5     3\n",
       "4  3     5     4"
      ]
     },
     "execution_count": 136,
     "metadata": {},
     "output_type": "execute_result"
    }
   ],
   "source": [
    "newdata5.head()"
   ]
  },
  {
   "cell_type": "code",
   "execution_count": 137,
   "metadata": {},
   "outputs": [
    {
     "data": {
      "text/html": [
       "<div>\n",
       "<style scoped>\n",
       "    .dataframe tbody tr th:only-of-type {\n",
       "        vertical-align: middle;\n",
       "    }\n",
       "\n",
       "    .dataframe tbody tr th {\n",
       "        vertical-align: top;\n",
       "    }\n",
       "\n",
       "    .dataframe thead th {\n",
       "        text-align: right;\n",
       "    }\n",
       "</style>\n",
       "<table border=\"1\" class=\"dataframe\">\n",
       "  <thead>\n",
       "    <tr style=\"text-align: right;\">\n",
       "      <th></th>\n",
       "      <th>0</th>\n",
       "      <th>area</th>\n",
       "      <th>hour</th>\n",
       "    </tr>\n",
       "  </thead>\n",
       "  <tbody>\n",
       "    <tr>\n",
       "      <th>0</th>\n",
       "      <td>5</td>\n",
       "      <td>2</td>\n",
       "      <td>0</td>\n",
       "    </tr>\n",
       "    <tr>\n",
       "      <th>1</th>\n",
       "      <td>2</td>\n",
       "      <td>2</td>\n",
       "      <td>1</td>\n",
       "    </tr>\n",
       "    <tr>\n",
       "      <th>2</th>\n",
       "      <td>0</td>\n",
       "      <td>2</td>\n",
       "      <td>2</td>\n",
       "    </tr>\n",
       "    <tr>\n",
       "      <th>3</th>\n",
       "      <td>0</td>\n",
       "      <td>2</td>\n",
       "      <td>3</td>\n",
       "    </tr>\n",
       "    <tr>\n",
       "      <th>4</th>\n",
       "      <td>0</td>\n",
       "      <td>2</td>\n",
       "      <td>4</td>\n",
       "    </tr>\n",
       "  </tbody>\n",
       "</table>\n",
       "</div>"
      ],
      "text/plain": [
       "   0  area  hour\n",
       "0  5     2     0\n",
       "1  2     2     1\n",
       "2  0     2     2\n",
       "3  0     2     3\n",
       "4  0     2     4"
      ]
     },
     "execution_count": 137,
     "metadata": {},
     "output_type": "execute_result"
    }
   ],
   "source": [
    "newdata.head()"
   ]
  },
  {
   "cell_type": "code",
   "execution_count": 138,
   "metadata": {},
   "outputs": [
    {
     "data": {
      "text/html": [
       "<div>\n",
       "<style scoped>\n",
       "    .dataframe tbody tr th:only-of-type {\n",
       "        vertical-align: middle;\n",
       "    }\n",
       "\n",
       "    .dataframe tbody tr th {\n",
       "        vertical-align: top;\n",
       "    }\n",
       "\n",
       "    .dataframe thead th {\n",
       "        text-align: right;\n",
       "    }\n",
       "</style>\n",
       "<table border=\"1\" class=\"dataframe\">\n",
       "  <thead>\n",
       "    <tr style=\"text-align: right;\">\n",
       "      <th></th>\n",
       "      <th>0</th>\n",
       "      <th>area</th>\n",
       "      <th>hour</th>\n",
       "    </tr>\n",
       "  </thead>\n",
       "  <tbody>\n",
       "    <tr>\n",
       "      <th>0</th>\n",
       "      <td>0</td>\n",
       "      <td>6</td>\n",
       "      <td>0</td>\n",
       "    </tr>\n",
       "    <tr>\n",
       "      <th>1</th>\n",
       "      <td>0</td>\n",
       "      <td>6</td>\n",
       "      <td>1</td>\n",
       "    </tr>\n",
       "    <tr>\n",
       "      <th>2</th>\n",
       "      <td>0</td>\n",
       "      <td>6</td>\n",
       "      <td>2</td>\n",
       "    </tr>\n",
       "    <tr>\n",
       "      <th>3</th>\n",
       "      <td>0</td>\n",
       "      <td>6</td>\n",
       "      <td>3</td>\n",
       "    </tr>\n",
       "    <tr>\n",
       "      <th>4</th>\n",
       "      <td>0</td>\n",
       "      <td>6</td>\n",
       "      <td>4</td>\n",
       "    </tr>\n",
       "  </tbody>\n",
       "</table>\n",
       "</div>"
      ],
      "text/plain": [
       "   0  area  hour\n",
       "0  0     6     0\n",
       "1  0     6     1\n",
       "2  0     6     2\n",
       "3  0     6     3\n",
       "4  0     6     4"
      ]
     },
     "execution_count": 138,
     "metadata": {},
     "output_type": "execute_result"
    }
   ],
   "source": [
    "newdata6.head()"
   ]
  },
  {
   "cell_type": "code",
   "execution_count": 139,
   "metadata": {},
   "outputs": [],
   "source": [
    "fdata9  = [g9h0a,g9h1a,g9h2a,g9h3a,g9h4a,g9h5a,g9h6a,g9h7a,g9h8a,g9h9a,g9h10a,g9h11a,g9h12a,g9h13a,g9h14a,g9h15a,g9h16a,g9h17a,g9h18a,g9h19a,g9h20a,g9h21a,g9h22a,g9h23a,g9h24a]"
   ]
  },
  {
   "cell_type": "code",
   "execution_count": 140,
   "metadata": {},
   "outputs": [],
   "source": [
    "newdata9 = pd.DataFrame(data=fdata9)"
   ]
  },
  {
   "cell_type": "code",
   "execution_count": 141,
   "metadata": {},
   "outputs": [],
   "source": [
    "newdata9[\"area\"] = 9\n",
    "newdata9[\"hour\"]=[0,1,2,3,4,5,6,7,8,9,10,11,12,13,14,15,16,17,18,19,20,21,22,23,24]"
   ]
  },
  {
   "cell_type": "code",
   "execution_count": 142,
   "metadata": {},
   "outputs": [],
   "source": [
    "fdata10  = [g10h0a,g10h1a,g10h2a,g10h3a,g10h4a,g10h5a,g10h6a,g10h7a,g10h8a,g10h9a,g10h10a,g10h11a,g10h12a,g10h13a,g10h14a,g10h15a,g10h16a,g10h17a,g10h18a,g10h19a,g10h20a,g10h21a,g10h22a,g10h23a,g10h24a]"
   ]
  },
  {
   "cell_type": "code",
   "execution_count": 143,
   "metadata": {},
   "outputs": [],
   "source": [
    "newdata10 = pd.DataFrame(data=fdata10)"
   ]
  },
  {
   "cell_type": "code",
   "execution_count": 144,
   "metadata": {},
   "outputs": [],
   "source": [
    "newdata10[\"area\"] = 10\n",
    "newdata10[\"hour\"]=[0,1,2,3,4,5,6,7,8,9,10,11,12,13,14,15,16,17,18,19,20,21,22,23,24]"
   ]
  },
  {
   "cell_type": "code",
   "execution_count": 145,
   "metadata": {},
   "outputs": [],
   "source": [
    "fdata11  = [g11h0a,g11h1a,g11h2a,g11h3a,g11h4a,g11h5a,g11h6a,g11h7a,g11h8a,g11h9a,g11h10a,g11h11a,g11h12a,g11h13a,g11h14a,g11h15a,g11h16a,g11h17a,g11h18a,g11h19a,g11h20a,g11h21a,g11h22a,g11h23a,g11h24a]"
   ]
  },
  {
   "cell_type": "code",
   "execution_count": 146,
   "metadata": {},
   "outputs": [],
   "source": [
    "newdata11 = pd.DataFrame(data=fdata11)"
   ]
  },
  {
   "cell_type": "code",
   "execution_count": 147,
   "metadata": {},
   "outputs": [],
   "source": [
    "newdata11[\"area\"] = 11\n",
    "newdata11[\"hour\"]=[0,1,2,3,4,5,6,7,8,9,10,11,12,13,14,15,16,17,18,19,20,21,22,23,24]"
   ]
  },
  {
   "cell_type": "code",
   "execution_count": 148,
   "metadata": {},
   "outputs": [],
   "source": [
    "fdata12  = [g12h0a,g12h1a,g12h2a,g12h3a,g12h4a,g12h5a,g12h6a,g12h7a,g12h8a,g12h9a,g12h10a,g12h11a,g12h12a,g12h13a,g12h14a,g12h15a,g12h16a,g12h17a,g12h18a,g12h19a,g12h20a,g12h21a,g12h22a,g12h23a,g12h24a]"
   ]
  },
  {
   "cell_type": "code",
   "execution_count": 149,
   "metadata": {},
   "outputs": [],
   "source": [
    "newdata12 = pd.DataFrame(data=fdata12)"
   ]
  },
  {
   "cell_type": "code",
   "execution_count": 150,
   "metadata": {},
   "outputs": [],
   "source": [
    "newdata12[\"area\"] = 12\n",
    "newdata12[\"hour\"]=[0,1,2,3,4,5,6,7,8,9,10,11,12,13,14,15,16,17,18,19,20,21,22,23,24]"
   ]
  },
  {
   "cell_type": "code",
   "execution_count": 151,
   "metadata": {},
   "outputs": [],
   "source": [
    "fdata13  = [g13h0a,g13h1a,g13h2a,g13h3a,g13h4a,g13h5a,g13h6a,g13h7a,g13h8a,g13h9a,g13h10a,g13h11a,g13h12a,g13h13a,g13h14a,g13h15a,g13h16a,g13h17a,g13h18a,g13h19a,g13h20a,g13h21a,g13h22a,g13h23a,g13h24a]"
   ]
  },
  {
   "cell_type": "code",
   "execution_count": 152,
   "metadata": {},
   "outputs": [],
   "source": [
    "newdata13 = pd.DataFrame(data=fdata13)"
   ]
  },
  {
   "cell_type": "code",
   "execution_count": 153,
   "metadata": {},
   "outputs": [],
   "source": [
    "newdata13[\"area\"] = 13\n",
    "newdata13[\"hour\"]=[0,1,2,3,4,5,6,7,8,9,10,11,12,13,14,15,16,17,18,19,20,21,22,23,24]"
   ]
  },
  {
   "cell_type": "code",
   "execution_count": 154,
   "metadata": {},
   "outputs": [],
   "source": [
    "fdata14  = [g14h0a,g14h1a,g14h2a,g14h3a,g14h4a,g14h5a,g14h6a,g14h7a,g14h8a,g14h9a,g14h10a,g14h11a,g14h12a,g14h13a,g14h14a,g14h15a,g14h16a,g14h17a,g14h18a,g14h19a,g14h20a,g14h21a,g14h22a,g14h23a,g14h24a]"
   ]
  },
  {
   "cell_type": "code",
   "execution_count": 155,
   "metadata": {},
   "outputs": [],
   "source": [
    "newdata14 = pd.DataFrame(data=fdata14)"
   ]
  },
  {
   "cell_type": "code",
   "execution_count": 156,
   "metadata": {},
   "outputs": [],
   "source": [
    "newdata14[\"area\"] = 14\n",
    "newdata14[\"hour\"]=[0,1,2,3,4,5,6,7,8,9,10,11,12,13,14,15,16,17,18,19,20,21,22,23,24]"
   ]
  },
  {
   "cell_type": "code",
   "execution_count": 160,
   "metadata": {},
   "outputs": [],
   "source": [
    "ftrainingdata = newdata\n"
   ]
  },
  {
   "cell_type": "code",
   "execution_count": 162,
   "metadata": {},
   "outputs": [],
   "source": [
    "ftrainingdata = ftrainingdata.append(newdata5)"
   ]
  },
  {
   "cell_type": "code",
   "execution_count": 163,
   "metadata": {},
   "outputs": [],
   "source": [
    "ftrainingdata = ftrainingdata.append(newdata6)\n"
   ]
  },
  {
   "cell_type": "code",
   "execution_count": 164,
   "metadata": {},
   "outputs": [],
   "source": [
    "ftrainingdata = ftrainingdata.append(newdata9)"
   ]
  },
  {
   "cell_type": "code",
   "execution_count": 165,
   "metadata": {},
   "outputs": [],
   "source": [
    "ftrainingdata = ftrainingdata.append(newdata10)"
   ]
  },
  {
   "cell_type": "code",
   "execution_count": 166,
   "metadata": {},
   "outputs": [],
   "source": [
    "ftrainingdata = ftrainingdata.append(newdata11)"
   ]
  },
  {
   "cell_type": "code",
   "execution_count": 167,
   "metadata": {},
   "outputs": [],
   "source": [
    "ftrainingdata = ftrainingdata.append(newdata12)"
   ]
  },
  {
   "cell_type": "code",
   "execution_count": 168,
   "metadata": {},
   "outputs": [],
   "source": [
    "ftrainingdata = ftrainingdata.append(newdata13)"
   ]
  },
  {
   "cell_type": "code",
   "execution_count": 169,
   "metadata": {},
   "outputs": [],
   "source": [
    "ftrainingdata = ftrainingdata.append(newdata14)"
   ]
  },
  {
   "cell_type": "code",
   "execution_count": null,
   "metadata": {},
   "outputs": [],
   "source": []
  }
 ],
 "metadata": {
  "kernelspec": {
   "display_name": "Python 3",
   "language": "python",
   "name": "python3"
  },
  "language_info": {
   "codemirror_mode": {
    "name": "ipython",
    "version": 3
   },
   "file_extension": ".py",
   "mimetype": "text/x-python",
   "name": "python",
   "nbconvert_exporter": "python",
   "pygments_lexer": "ipython3",
   "version": "3.7.3"
  }
 },
 "nbformat": 4,
 "nbformat_minor": 2
}
